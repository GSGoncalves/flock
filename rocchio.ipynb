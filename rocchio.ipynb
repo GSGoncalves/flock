{
 "cells": [
  {
   "cell_type": "code",
   "execution_count": 1,
   "metadata": {},
   "outputs": [],
   "source": [
    "%load_ext autoreload\n",
    "%autoreload 2"
   ]
  },
  {
   "cell_type": "code",
   "execution_count": 53,
   "metadata": {},
   "outputs": [],
   "source": [
    "%matplotlib inline"
   ]
  },
  {
   "cell_type": "code",
   "execution_count": 2,
   "metadata": {},
   "outputs": [],
   "source": [
    "import sys\n",
    "\n",
    "sys.path.extend(\n",
    "    [\n",
    "        'src/poultry',\n",
    "    ]\n",
    ")"
   ]
  },
  {
   "cell_type": "code",
   "execution_count": 76,
   "metadata": {},
   "outputs": [],
   "source": [
    "import string\n",
    "import json\n",
    "from itertools import chain, islice\n",
    "from collections import deque\n",
    "\n",
    "import numpy as np\n",
    "import seaborn as sns\n",
    "import pandas as pd\n",
    "import matplotlib.pyplot as plt\n",
    "\n",
    "from sklearn.metrics.pairwise import pairwise_distances"
   ]
  },
  {
   "cell_type": "code",
   "execution_count": 4,
   "metadata": {},
   "outputs": [],
   "source": [
    "class Vectorizer:\n",
    "\n",
    "    def __init__(self, features=string.ascii_lowercase + string.digits, length=3):\n",
    "        self.all_features = set(features)\n",
    "        self.all_features.add('')\n",
    "        self.feature_map = {f: i for i, f in enumerate(features, start=1)}\n",
    "        self.feature_map[''] = 0\n",
    "\n",
    "        self.length = length\n",
    "\n",
    "    def features(self, text):\n",
    "        text = text.lower()\n",
    "    \n",
    "        features = filter(None, (self.feature_map.get(f) for f in text))\n",
    "        features = chain(features, [0] * (self.length - 1))\n",
    "\n",
    "        window = deque([0] * (self.length - 1), self.length)\n",
    "        for current in features:\n",
    "            window.append(current)\n",
    "            yield sum(f * len(self.feature_map) ** i for i, f in enumerate(reversed(window)))\n",
    "            \n",
    "    def __call__(self, text):\n",
    "        return np.fromiter(set(self.features(text)), int)"
   ]
  },
  {
   "cell_type": "code",
   "execution_count": 5,
   "metadata": {},
   "outputs": [],
   "source": [
    "vectorizer = Vectorizer()"
   ]
  },
  {
   "cell_type": "code",
   "execution_count": 6,
   "metadata": {},
   "outputs": [
    {
     "data": {
      "text/plain": [
       "1"
      ]
     },
     "execution_count": 6,
     "metadata": {},
     "output_type": "execute_result"
    }
   ],
   "source": [
    "vectorizer.feature_map['a']"
   ]
  },
  {
   "cell_type": "code",
   "execution_count": 7,
   "metadata": {},
   "outputs": [
    {
     "data": {
      "text/plain": [
       "array([    1,  7585,  7050, 28236,  2132, 27380,    57, 31677])"
      ]
     },
     "execution_count": 7,
     "metadata": {},
     "output_type": "execute_result"
    }
   ],
   "source": [
    "vectorizer('a tweet')"
   ]
  },
  {
   "cell_type": "code",
   "execution_count": 250,
   "metadata": {},
   "outputs": [],
   "source": [
    "class Collection:\n",
    "    \n",
    "    def __init__(self, vectorizer):\n",
    "        self.vectorizer = vectorizer\n",
    "        self.df = np.zeros(len(vectorizer.feature_map) ** vectorizer.length)\n",
    "            \n",
    "    def append(self, text):        \n",
    "        features = self.vectorizer(text)\n",
    "        self.df[features] += 1\n",
    "\n",
    "        return self._idf(features)\n",
    " \n",
    "    def __getitem__(self, key):\n",
    "        features = self.vectorizer(key)\n",
    "        return self._idf(features)\n",
    "\n",
    "    def _idf(self, features):\n",
    "        result = np.zeros(self.df.shape[0])\n",
    "        result[features] = 1 / np.log(self.df[features] + 1)\n",
    "        return result\n",
    "        \n",
    "    def distance(self, one, another, metric='cosine'):\n",
    "        if isinstance(one, str):\n",
    "            one = [one]\n",
    "        if isinstance(another, str):\n",
    "            another = [another]\n",
    "        return pairwise_distances(\n",
    "            list(map(self.__getitem__, one)),\n",
    "            list(map(self.__getitem__, another)),\n",
    "            metric=metric,\n",
    "        )\n"
   ]
  },
  {
   "cell_type": "code",
   "execution_count": 9,
   "metadata": {},
   "outputs": [],
   "source": [
    "collection = Collection(vectorizer)"
   ]
  },
  {
   "cell_type": "code",
   "execution_count": 10,
   "metadata": {},
   "outputs": [
    {
     "data": {
      "text/plain": [
       "array([ 0.,  1.,  0., ...,  0.,  0.,  0.])"
      ]
     },
     "execution_count": 10,
     "metadata": {},
     "output_type": "execute_result"
    }
   ],
   "source": [
    "collection.append('a tweet')"
   ]
  },
  {
   "cell_type": "code",
   "execution_count": 11,
   "metadata": {},
   "outputs": [
    {
     "data": {
      "text/plain": [
       "array([ 0. ,  0.5,  0. , ...,  0. ,  0. ,  0. ])"
      ]
     },
     "execution_count": 11,
     "metadata": {},
     "output_type": "execute_result"
    }
   ],
   "source": [
    "collection.append('another tweet')"
   ]
  },
  {
   "cell_type": "code",
   "execution_count": 12,
   "metadata": {},
   "outputs": [
    {
     "data": {
      "text/plain": [
       "array([ 0. ,  0.5,  0. , ...,  0. ,  0. ,  0. ])"
      ]
     },
     "execution_count": 12,
     "metadata": {},
     "output_type": "execute_result"
    }
   ],
   "source": [
    "collection['a tweet']"
   ]
  },
  {
   "cell_type": "code",
   "execution_count": 13,
   "metadata": {},
   "outputs": [
    {
     "data": {
      "text/plain": [
       "array([[ 0.73986701]])"
      ]
     },
     "execution_count": 13,
     "metadata": {},
     "output_type": "execute_result"
    }
   ],
   "source": [
    "collection.distance('a tweet', 'another tweet')"
   ]
  },
  {
   "cell_type": "code",
   "execution_count": 14,
   "metadata": {},
   "outputs": [
    {
     "data": {
      "text/plain": [
       "array([ 0.,  0.,  0., ...,  0.,  0.,  0.])"
      ]
     },
     "execution_count": 14,
     "metadata": {},
     "output_type": "execute_result"
    }
   ],
   "source": [
    "collection.append('some other tweet')"
   ]
  },
  {
   "cell_type": "code",
   "execution_count": 15,
   "metadata": {},
   "outputs": [
    {
     "data": {
      "text/plain": [
       "array([[ 0.        ,  0.78610452,  0.88128212]])"
      ]
     },
     "execution_count": 15,
     "metadata": {},
     "output_type": "execute_result"
    }
   ],
   "source": [
    "collection.distance(\n",
    "    'a tweet',\n",
    "    [\n",
    "        'a tweet',\n",
    "        'another tweet',\n",
    "        'some other tweet',\n",
    "    ],\n",
    ")"
   ]
  },
  {
   "cell_type": "code",
   "execution_count": 16,
   "metadata": {},
   "outputs": [
    {
     "data": {
      "text/plain": [
       "array([ 0.,  0.,  0., ...,  0.,  0.,  0.])"
      ]
     },
     "execution_count": 16,
     "metadata": {},
     "output_type": "execute_result"
    }
   ],
   "source": [
    "collection.append('totally different piece')"
   ]
  },
  {
   "cell_type": "code",
   "execution_count": 17,
   "metadata": {},
   "outputs": [
    {
     "data": {
      "text/plain": [
       "array([[ 0.   ,  0.786,  0.881,  1.   ],\n",
       "       [ 0.786,  0.   ,  0.713,  1.   ],\n",
       "       [ 0.881,  0.713,  0.   ,  1.   ],\n",
       "       [ 1.   ,  1.   ,  1.   ,  0.   ]])"
      ]
     },
     "execution_count": 17,
     "metadata": {},
     "output_type": "execute_result"
    }
   ],
   "source": [
    "collection.distance(\n",
    "    [\n",
    "        'a tweet',\n",
    "        'another tweet',\n",
    "        'some other tweet',\n",
    "        'totally different piece'\n",
    "    ],\n",
    "    [\n",
    "        'a tweet',\n",
    "        'another tweet',\n",
    "        'some other tweet',\n",
    "        'totally different piece'\n",
    "    ],\n",
    ").round(3)"
   ]
  },
  {
   "cell_type": "code",
   "execution_count": 18,
   "metadata": {},
   "outputs": [],
   "source": [
    "from poultry import readline_dir"
   ]
  },
  {
   "cell_type": "code",
   "execution_count": 19,
   "metadata": {},
   "outputs": [],
   "source": [
    "tweets = list(islice(readline_dir('tweets/hydrate/RTS17/'), 10))"
   ]
  },
  {
   "cell_type": "code",
   "execution_count": 209,
   "metadata": {},
   "outputs": [],
   "source": [
    "def Tweets(limit=10):\n",
    "    for tweet in islice(readline_dir('tweets/hydrate/RTS17/'), limit):\n",
    "        if tweet.lang == 'en' and not tweet.is_spam:\n",
    "            yield tweet"
   ]
  },
  {
   "cell_type": "code",
   "execution_count": 136,
   "metadata": {},
   "outputs": [],
   "source": [
    "with open('eval/RTS17/topics.json') as f:\n",
    "    topics = json.load(f)\n",
    "topics = [topics[-22], topics[2]]\n",
    "queries = [t['title'] for t in topics]"
   ]
  },
  {
   "cell_type": "code",
   "execution_count": 137,
   "metadata": {},
   "outputs": [],
   "source": [
    "fina_tweets = [\n",
    "    \"\"\"Bronze butterfly: Daiya Seto took his 3rd straight #FINAWorlds medal on Wednesday.http://bit.ly/2u0KN4V\"\"\",\n",
    "    \"\"\"China's medal haul at 2017 FINA World Championships: 12 gold, 12 silver and 6 bronze. Follow us for more.\"\"\",\n",
    "    \"\"\"2017 FINA World Championships: Day 8 Prelims Live Recap https://swimswam.com/2017-fina-world-championships-day-8-prelims-live-recap/ …\"\"\",\n",
    "    \n",
    "    \"\"\"Athletics: Everything you need to know about South African athletes at World Championships http://buff.ly/2uYp8hn\"\"\",\n",
    "]"
   ]
  },
  {
   "cell_type": "code",
   "execution_count": 138,
   "metadata": {},
   "outputs": [],
   "source": [
    "fina_collection = Collection(vectorizer)"
   ]
  },
  {
   "cell_type": "code",
   "execution_count": 139,
   "metadata": {},
   "outputs": [],
   "source": [
    "for item in fina_tweets + queries:\n",
    "    fina_collection.append(item)"
   ]
  },
  {
   "cell_type": "code",
   "execution_count": 140,
   "metadata": {},
   "outputs": [
    {
     "data": {
      "text/plain": [
       "array([[ 0.98910261],\n",
       "       [ 0.96073846],\n",
       "       [ 0.95432931],\n",
       "       [ 0.97301864]])"
      ]
     },
     "execution_count": 140,
     "metadata": {},
     "output_type": "execute_result"
    }
   ],
   "source": [
    "fina_collection.distance(fina_tweets, topics[0]['title'])"
   ]
  },
  {
   "cell_type": "code",
   "execution_count": 317,
   "metadata": {},
   "outputs": [],
   "source": [
    "qrels = pd.read_csv(\n",
    "    'eval/RTS17/eval_qrelsfile',\n",
    "    sep=' ',\n",
    "    names=['topic', 'q0', 'tweet_id', 'judgment'],\n",
    "    usecols=['topic', 'tweet_id', 'judgment'],\n",
    "    header=None,\n",
    "    index_col=['tweet_id', 'topic'],\n",
    "    squeeze=True,\n",
    ").unstack('topic')\n",
    "\n",
    "qrels = pd.concat([qrels], axis=1, keys=['Relevance'])"
   ]
  },
  {
   "cell_type": "code",
   "execution_count": 381,
   "metadata": {},
   "outputs": [
    {
     "name": "stdout",
     "output_type": "stream",
     "text": [
      "CPU times: user 10min 9s, sys: 6.91 s, total: 10min 16s\n",
      "Wall time: 10min 22s\n"
     ]
    }
   ],
   "source": [
    "%%time\n",
    "tweet_collection = Collection(vectorizer)\n",
    "\n",
    "for q in queries:\n",
    "    tweet_collection.append(q)\n",
    "\n",
    "similarities = pd.DataFrame.from_records(\n",
    "    (\n",
    "        (tweet.id, *distances)\n",
    "        for i, tweet, vector, distances in (\n",
    "            (\n",
    "                i, tweet,\n",
    "                tweet_collection.append(tweet.text),\n",
    "                tweet_collection.distance(tweet.text, queries, metric='cosine').flatten()\n",
    "            )\n",
    "            for i, tweet in enumerate(Tweets(1_000_000))\n",
    "        )\n",
    "#         if min(distances) < 0.9\n",
    "    ),\n",
    "    columns=['tweet_id', *[t['topid'] for t in topics]],\n",
    "    index='tweet_id',\n",
    ")\n",
    "\n",
    "similarities = pd.concat([similarities], axis=1, keys=['Score'])\n",
    "\n",
    "similarities = similarities.merge(\n",
    "    qrels, how='left',\n",
    "    left_index=True, right_index=True,\n",
    ")[[('Score', 'RTS212'), ('Score', 'RTS48'), ('Relevance', 'RTS212'), ('Relevance', 'RTS48')]]"
   ]
  },
  {
   "cell_type": "code",
   "execution_count": 518,
   "metadata": {},
   "outputs": [
    {
     "data": {
      "text/html": [
       "<div>\n",
       "<style scoped>\n",
       "    .dataframe tbody tr th:only-of-type {\n",
       "        vertical-align: middle;\n",
       "    }\n",
       "\n",
       "    .dataframe tbody tr th {\n",
       "        vertical-align: top;\n",
       "    }\n",
       "\n",
       "    .dataframe thead th {\n",
       "        text-align: right;\n",
       "    }\n",
       "</style>\n",
       "<table border=\"1\" class=\"dataframe\">\n",
       "  <thead>\n",
       "    <tr style=\"text-align: right;\">\n",
       "      <th>Topic</th>\n",
       "      <th>RTS212</th>\n",
       "      <th>RTS48</th>\n",
       "    </tr>\n",
       "  </thead>\n",
       "  <tbody>\n",
       "    <tr>\n",
       "      <th>-2.0</th>\n",
       "      <td>1</td>\n",
       "      <td>1.0</td>\n",
       "    </tr>\n",
       "    <tr>\n",
       "      <th>0.0</th>\n",
       "      <td>21</td>\n",
       "      <td>9.0</td>\n",
       "    </tr>\n",
       "    <tr>\n",
       "      <th>1.0</th>\n",
       "      <td>11</td>\n",
       "      <td>NaN</td>\n",
       "    </tr>\n",
       "  </tbody>\n",
       "</table>\n",
       "</div>"
      ],
      "text/plain": [
       "Topic  RTS212  RTS48\n",
       "-2.0        1    1.0\n",
       " 0.0       21    9.0\n",
       " 1.0       11    NaN"
      ]
     },
     "execution_count": 518,
     "metadata": {},
     "output_type": "execute_result"
    }
   ],
   "source": [
    "similarities['Relevance'].apply(lambda c: c.value_counts())"
   ]
  },
  {
   "cell_type": "code",
   "execution_count": 383,
   "metadata": {},
   "outputs": [
    {
     "data": {
      "text/plain": [
       "<matplotlib.axes._subplots.AxesSubplot at 0x11b6979b0>"
      ]
     },
     "execution_count": 383,
     "metadata": {},
     "output_type": "execute_result"
    },
    {
     "data": {
      "image/png": "[encoded data removed]",
      "text/plain": [
       "<matplotlib.figure.Figure at 0x11c193ba8>"
      ]
     },
     "metadata": {},
     "output_type": "display_data"
    }
   ],
   "source": [
    "similarities['Score'].plot(style='o', use_index=False, figsize=(14, 6))"
   ]
  },
  {
   "cell_type": "code",
   "execution_count": 393,
   "metadata": {},
   "outputs": [
    {
     "data": {
      "text/html": [
       "<div>\n",
       "<style scoped>\n",
       "    .dataframe tbody tr th:only-of-type {\n",
       "        vertical-align: middle;\n",
       "    }\n",
       "\n",
       "    .dataframe tbody tr th {\n",
       "        vertical-align: top;\n",
       "    }\n",
       "\n",
       "    .dataframe thead tr th {\n",
       "        text-align: left;\n",
       "    }\n",
       "\n",
       "    .dataframe thead tr:last-of-type th {\n",
       "        text-align: right;\n",
       "    }\n",
       "</style>\n",
       "<table border=\"1\" class=\"dataframe\">\n",
       "  <thead>\n",
       "    <tr>\n",
       "      <th></th>\n",
       "      <th colspan=\"2\" halign=\"left\">Score</th>\n",
       "      <th colspan=\"2\" halign=\"left\">Relevance</th>\n",
       "    </tr>\n",
       "    <tr>\n",
       "      <th></th>\n",
       "      <th>RTS212</th>\n",
       "      <th>RTS48</th>\n",
       "      <th>RTS212</th>\n",
       "      <th>RTS48</th>\n",
       "    </tr>\n",
       "    <tr>\n",
       "      <th>tweet_id</th>\n",
       "      <th></th>\n",
       "      <th></th>\n",
       "      <th></th>\n",
       "      <th></th>\n",
       "    </tr>\n",
       "  </thead>\n",
       "  <tbody>\n",
       "    <tr>\n",
       "      <th>891157466876170240</th>\n",
       "      <td>0.761941</td>\n",
       "      <td>0.981241</td>\n",
       "      <td>NaN</td>\n",
       "      <td>NaN</td>\n",
       "    </tr>\n",
       "    <tr>\n",
       "      <th>891154279171543041</th>\n",
       "      <td>0.764378</td>\n",
       "      <td>0.988529</td>\n",
       "      <td>NaN</td>\n",
       "      <td>NaN</td>\n",
       "    </tr>\n",
       "    <tr>\n",
       "      <th>891170230109691904</th>\n",
       "      <td>0.767349</td>\n",
       "      <td>1.000000</td>\n",
       "      <td>NaN</td>\n",
       "      <td>NaN</td>\n",
       "    </tr>\n",
       "    <tr>\n",
       "      <th>891156544099831808</th>\n",
       "      <td>0.771610</td>\n",
       "      <td>0.967868</td>\n",
       "      <td>NaN</td>\n",
       "      <td>NaN</td>\n",
       "    </tr>\n",
       "    <tr>\n",
       "      <th>891241709438464000</th>\n",
       "      <td>0.786541</td>\n",
       "      <td>0.935598</td>\n",
       "      <td>1.0</td>\n",
       "      <td>NaN</td>\n",
       "    </tr>\n",
       "    <tr>\n",
       "      <th>891243936630624256</th>\n",
       "      <td>0.794450</td>\n",
       "      <td>1.000000</td>\n",
       "      <td>NaN</td>\n",
       "      <td>NaN</td>\n",
       "    </tr>\n",
       "    <tr>\n",
       "      <th>891186088810827776</th>\n",
       "      <td>0.816185</td>\n",
       "      <td>1.000000</td>\n",
       "      <td>NaN</td>\n",
       "      <td>NaN</td>\n",
       "    </tr>\n",
       "    <tr>\n",
       "      <th>891253881321250816</th>\n",
       "      <td>0.816788</td>\n",
       "      <td>0.899696</td>\n",
       "      <td>NaN</td>\n",
       "      <td>NaN</td>\n",
       "    </tr>\n",
       "    <tr>\n",
       "      <th>891226878396313600</th>\n",
       "      <td>0.819078</td>\n",
       "      <td>1.000000</td>\n",
       "      <td>NaN</td>\n",
       "      <td>NaN</td>\n",
       "    </tr>\n",
       "    <tr>\n",
       "      <th>891181911267319809</th>\n",
       "      <td>0.819844</td>\n",
       "      <td>0.966238</td>\n",
       "      <td>NaN</td>\n",
       "      <td>NaN</td>\n",
       "    </tr>\n",
       "  </tbody>\n",
       "</table>\n",
       "</div>"
      ],
      "text/plain": [
       "                       Score           Relevance      \n",
       "                      RTS212     RTS48    RTS212 RTS48\n",
       "tweet_id                                              \n",
       "891157466876170240  0.761941  0.981241       NaN   NaN\n",
       "891154279171543041  0.764378  0.988529       NaN   NaN\n",
       "891170230109691904  0.767349  1.000000       NaN   NaN\n",
       "891156544099831808  0.771610  0.967868       NaN   NaN\n",
       "891241709438464000  0.786541  0.935598       1.0   NaN\n",
       "891243936630624256  0.794450  1.000000       NaN   NaN\n",
       "891186088810827776  0.816185  1.000000       NaN   NaN\n",
       "891253881321250816  0.816788  0.899696       NaN   NaN\n",
       "891226878396313600  0.819078  1.000000       NaN   NaN\n",
       "891181911267319809  0.819844  0.966238       NaN   NaN"
      ]
     },
     "execution_count": 393,
     "metadata": {},
     "output_type": "execute_result"
    }
   ],
   "source": [
    "similarities.sort_values(\n",
    "    [\n",
    "        ('Score', 'RTS212'),\n",
    "        ('Score', 'RTS48'),\n",
    "        ('Relevance', 'RTS212'),\n",
    "        ('Relevance', 'RTS48'),\n",
    "    ][0],\n",
    "    ascending=True,\n",
    ")[:10]"
   ]
  },
  {
   "cell_type": "code",
   "execution_count": 494,
   "metadata": {},
   "outputs": [],
   "source": [
    "zzz = similarities.dropna('rows', how='all', subset=[('Relevance', 'RTS212'), ('Relevance', 'RTS48')]).fillna(-3)\n",
    "\n",
    "zzz.columns.names = ['Type', 'Topic']\n",
    "zzz = zzz.stack('Topic')\n",
    "zzz = zzz.reset_index('Topic')"
   ]
  },
  {
   "cell_type": "code",
   "execution_count": 495,
   "metadata": {},
   "outputs": [
    {
     "data": {
      "image/png": "[encoded data removed]",
      "text/plain": [
       "<matplotlib.figure.Figure at 0x11a6ca5c0>"
      ]
     },
     "metadata": {},
     "output_type": "display_data"
    }
   ],
   "source": [
    "sns.boxplot(data=zzz, x='Relevance', y='Score', hue='Topic');"
   ]
  },
  {
   "cell_type": "code",
   "execution_count": null,
   "metadata": {},
   "outputs": [],
   "source": []
  }
 ],
 "metadata": {
  "kernelspec": {
   "display_name": "Python 3",
   "language": "python",
   "name": "python3"
  },
  "language_info": {
   "codemirror_mode": {
    "name": "ipython",
    "version": 3
   },
   "file_extension": ".py",
   "mimetype": "text/x-python",
   "name": "python",
   "nbconvert_exporter": "python",
   "pygments_lexer": "ipython3",
   "version": "3.6.3"
  }
 },
 "nbformat": 4,
 "nbformat_minor": 2
}
