{
 "cells": [
  {
   "cell_type": "code",
   "execution_count": 1,
   "metadata": {},
   "outputs": [],
   "source": [
    "%load_ext autoreload\n",
    "%autoreload 2"
   ]
  },
  {
   "cell_type": "code",
   "execution_count": 2,
   "metadata": {},
   "outputs": [],
   "source": [
    "%matplotlib inline"
   ]
  },
  {
   "cell_type": "code",
   "execution_count": 3,
   "metadata": {},
   "outputs": [],
   "source": [
    "# import sys\n",
    "\n",
    "# sys.path.extend(\n",
    "#     [\n",
    "#         'src/poultry',\n",
    "#     ]\n",
    "# )"
   ]
  },
  {
   "cell_type": "code",
   "execution_count": 4,
   "metadata": {},
   "outputs": [],
   "source": [
    "import string\n",
    "import json\n",
    "from itertools import chain, islice\n",
    "from collections import deque\n",
    "\n",
    "import numpy as np\n",
    "import seaborn as sns\n",
    "import pandas as pd\n",
    "import matplotlib.pyplot as plt\n",
    "\n",
    "from sklearn.metrics.pairwise import pairwise_distances"
   ]
  },
  {
   "cell_type": "code",
   "execution_count": 5,
   "metadata": {},
   "outputs": [],
   "source": [
    "with open('eval/RTS17/topics.json') as f:\n",
    "    topics = json.load(f)\n",
    "topics = [topics[-22], topics[2]]\n",
    "queries = [t['title'] for t in topics]"
   ]
  },
  {
   "cell_type": "code",
   "execution_count": 6,
   "metadata": {},
   "outputs": [],
   "source": [
    "qrels = pd.read_csv(\n",
    "    'eval/RTS17/eval_qrelsfile',\n",
    "    sep=' ',\n",
    "    names=['topic', 'q0', 'tweet_id', 'judgment'],\n",
    "    usecols=['topic', 'tweet_id', 'judgment'],\n",
    "    header=None,\n",
    "    index_col=['tweet_id', 'topic'],\n",
    "    squeeze=True,\n",
    ").unstack('topic')\n",
    "\n",
    "qrels = qrels[['RTS212', 'RTS48']]\n",
    "\n",
    "qrels = pd.concat([qrels], axis=1, keys=['Relevance'])"
   ]
  },
  {
   "cell_type": "code",
   "execution_count": 7,
   "metadata": {},
   "outputs": [
    {
     "name": "stderr",
     "output_type": "stream",
     "text": [
      "/home/dnm11/miniconda3/lib/python3.6/site-packages/IPython/core/interactiveshell.py:2728: DtypeWarning: Columns (6) have mixed types. Specify dtype option on import or set low_memory=False.\n",
      "  interactivity=interactivity, compiler=compiler, result=result)\n"
     ]
    }
   ],
   "source": [
    "point = pd.read_csv(\n",
    "    'eval/RTS17/gundog/ngram-length(3)_keep-spam(0)_language(en)_extract-retweets(0)_keep-retweets(0).point',\n",
    "    sep=' ',\n",
    "    names=[\n",
    "        'topic', 'tweet_id',\n",
    "        'Distance to query',\n",
    "        'Distance to positive', 'Distance to negative',\n",
    "        'Score',\n",
    "        'retrieve', 'Positive', 'Negative',\n",
    "    ],\n",
    "    header=None,\n",
    "    index_col=['tweet_id', 'topic'],\n",
    "    squeeze=True,\n",
    "#     dtype={'Negative': int},\n",
    ").unstack('topic')\n",
    "\n",
    "# point = pd.concat([point], axis=1, keys=['Point'])\n",
    "\n",
    "point = point.merge(\n",
    "    qrels, how='left',\n",
    "    left_index=True, right_index=True,\n",
    ")"
   ]
  },
  {
   "cell_type": "code",
   "execution_count": 8,
   "metadata": {},
   "outputs": [],
   "source": [
    "topics = list(point['Relevance'].apply(lambda c: c.value_counts()).dropna(axis='columns', how='all').columns.values)"
   ]
  },
  {
   "cell_type": "code",
   "execution_count": 9,
   "metadata": {},
   "outputs": [
    {
     "data": {
      "image/png": "[encoded data removed]",
      "text/plain": [
       "<matplotlib.figure.Figure at 0x1132954a8>"
      ]
     },
     "metadata": {},
     "output_type": "display_data"
    }
   ],
   "source": [
    "(\n",
    "    point['Distance to query'][topics]\n",
    "    .apply(np.vectorize(lambda v: v if v < 0.9 else None)).dropna(how='all')\n",
    "    .plot(style='o', use_index=False, figsize=(14, 6))\n",
    ");"
   ]
  },
  {
   "cell_type": "code",
   "execution_count": 10,
   "metadata": {},
   "outputs": [
    {
     "data": {
      "text/html": [
       "<div>\n",
       "<style scoped>\n",
       "    .dataframe tbody tr th:only-of-type {\n",
       "        vertical-align: middle;\n",
       "    }\n",
       "\n",
       "    .dataframe tbody tr th {\n",
       "        vertical-align: top;\n",
       "    }\n",
       "\n",
       "    .dataframe thead tr th {\n",
       "        text-align: left;\n",
       "    }\n",
       "\n",
       "    .dataframe thead tr:last-of-type th {\n",
       "        text-align: right;\n",
       "    }\n",
       "</style>\n",
       "<table border=\"1\" class=\"dataframe\">\n",
       "  <thead>\n",
       "    <tr>\n",
       "      <th></th>\n",
       "      <th colspan=\"2\" halign=\"left\">Distance to query</th>\n",
       "      <th colspan=\"2\" halign=\"left\">Distance to positive</th>\n",
       "      <th colspan=\"2\" halign=\"left\">Distance to negative</th>\n",
       "      <th colspan=\"2\" halign=\"left\">Score</th>\n",
       "      <th colspan=\"2\" halign=\"left\">retrieve</th>\n",
       "      <th colspan=\"2\" halign=\"left\">Positive</th>\n",
       "      <th colspan=\"2\" halign=\"left\">Negative</th>\n",
       "      <th colspan=\"2\" halign=\"left\">Relevance</th>\n",
       "    </tr>\n",
       "    <tr>\n",
       "      <th>topic</th>\n",
       "      <th>RTS212</th>\n",
       "      <th>RTS48</th>\n",
       "      <th>RTS212</th>\n",
       "      <th>RTS48</th>\n",
       "      <th>RTS212</th>\n",
       "      <th>RTS48</th>\n",
       "      <th>RTS212</th>\n",
       "      <th>RTS48</th>\n",
       "      <th>RTS212</th>\n",
       "      <th>RTS48</th>\n",
       "      <th>RTS212</th>\n",
       "      <th>RTS48</th>\n",
       "      <th>RTS212</th>\n",
       "      <th>RTS48</th>\n",
       "      <th>RTS212</th>\n",
       "      <th>RTS48</th>\n",
       "    </tr>\n",
       "    <tr>\n",
       "      <th>tweet_id</th>\n",
       "      <th></th>\n",
       "      <th></th>\n",
       "      <th></th>\n",
       "      <th></th>\n",
       "      <th></th>\n",
       "      <th></th>\n",
       "      <th></th>\n",
       "      <th></th>\n",
       "      <th></th>\n",
       "      <th></th>\n",
       "      <th></th>\n",
       "      <th></th>\n",
       "      <th></th>\n",
       "      <th></th>\n",
       "      <th></th>\n",
       "      <th></th>\n",
       "    </tr>\n",
       "  </thead>\n",
       "  <tbody>\n",
       "    <tr>\n",
       "      <th>891189075146792964</th>\n",
       "      <td>0.831737</td>\n",
       "      <td>0.933903</td>\n",
       "      <td>0.831737</td>\n",
       "      <td>0.933903</td>\n",
       "      <td>0.929974</td>\n",
       "      <td>0.978444</td>\n",
       "      <td>0.894367</td>\n",
       "      <td>0.954478</td>\n",
       "      <td>True</td>\n",
       "      <td>True</td>\n",
       "      <td>1.0</td>\n",
       "      <td>1.0</td>\n",
       "      <td>1.0</td>\n",
       "      <td>1.0</td>\n",
       "      <td>NaN</td>\n",
       "      <td>NaN</td>\n",
       "    </tr>\n",
       "    <tr>\n",
       "      <th>891192015345508352</th>\n",
       "      <td>0.902292</td>\n",
       "      <td>1.000000</td>\n",
       "      <td>0.902292</td>\n",
       "      <td>1.000000</td>\n",
       "      <td>0.991269</td>\n",
       "      <td>0.958139</td>\n",
       "      <td>0.910239</td>\n",
       "      <td>1.043690</td>\n",
       "      <td>True</td>\n",
       "      <td>False</td>\n",
       "      <td>1.0</td>\n",
       "      <td>1.0</td>\n",
       "      <td>1.0</td>\n",
       "      <td>1.0</td>\n",
       "      <td>NaN</td>\n",
       "      <td>NaN</td>\n",
       "    </tr>\n",
       "    <tr>\n",
       "      <th>891189968542027776</th>\n",
       "      <td>0.914536</td>\n",
       "      <td>1.000000</td>\n",
       "      <td>0.914536</td>\n",
       "      <td>1.000000</td>\n",
       "      <td>0.996492</td>\n",
       "      <td>1.000000</td>\n",
       "      <td>0.917755</td>\n",
       "      <td>1.000000</td>\n",
       "      <td>True</td>\n",
       "      <td>False</td>\n",
       "      <td>1.0</td>\n",
       "      <td>1.0</td>\n",
       "      <td>1.0</td>\n",
       "      <td>1.0</td>\n",
       "      <td>NaN</td>\n",
       "      <td>NaN</td>\n",
       "    </tr>\n",
       "    <tr>\n",
       "      <th>891199263102971905</th>\n",
       "      <td>0.883805</td>\n",
       "      <td>1.000000</td>\n",
       "      <td>0.883805</td>\n",
       "      <td>1.000000</td>\n",
       "      <td>0.960161</td>\n",
       "      <td>0.982371</td>\n",
       "      <td>0.920475</td>\n",
       "      <td>1.017946</td>\n",
       "      <td>True</td>\n",
       "      <td>False</td>\n",
       "      <td>2.0</td>\n",
       "      <td>1.0</td>\n",
       "      <td>1.0</td>\n",
       "      <td>1.0</td>\n",
       "      <td>1.0</td>\n",
       "      <td>NaN</td>\n",
       "    </tr>\n",
       "    <tr>\n",
       "      <th>891200492033855489</th>\n",
       "      <td>1.000000</td>\n",
       "      <td>1.000000</td>\n",
       "      <td>0.904058</td>\n",
       "      <td>1.000000</td>\n",
       "      <td>0.981782</td>\n",
       "      <td>0.976043</td>\n",
       "      <td>0.920834</td>\n",
       "      <td>1.024545</td>\n",
       "      <td>True</td>\n",
       "      <td>False</td>\n",
       "      <td>2.0</td>\n",
       "      <td>1.0</td>\n",
       "      <td>1.0</td>\n",
       "      <td>2.0</td>\n",
       "      <td>NaN</td>\n",
       "      <td>NaN</td>\n",
       "    </tr>\n",
       "    <tr>\n",
       "      <th>891199879674032129</th>\n",
       "      <td>1.000000</td>\n",
       "      <td>1.000000</td>\n",
       "      <td>0.907173</td>\n",
       "      <td>1.000000</td>\n",
       "      <td>0.982478</td>\n",
       "      <td>1.000000</td>\n",
       "      <td>0.923351</td>\n",
       "      <td>1.000000</td>\n",
       "      <td>True</td>\n",
       "      <td>False</td>\n",
       "      <td>2.0</td>\n",
       "      <td>1.0</td>\n",
       "      <td>1.0</td>\n",
       "      <td>1.0</td>\n",
       "      <td>NaN</td>\n",
       "      <td>NaN</td>\n",
       "    </tr>\n",
       "    <tr>\n",
       "      <th>891200731113549824</th>\n",
       "      <td>0.991065</td>\n",
       "      <td>1.000000</td>\n",
       "      <td>0.921028</td>\n",
       "      <td>1.000000</td>\n",
       "      <td>0.995372</td>\n",
       "      <td>0.988441</td>\n",
       "      <td>0.925310</td>\n",
       "      <td>1.011694</td>\n",
       "      <td>True</td>\n",
       "      <td>False</td>\n",
       "      <td>2.0</td>\n",
       "      <td>1.0</td>\n",
       "      <td>1.0</td>\n",
       "      <td>2.0</td>\n",
       "      <td>NaN</td>\n",
       "      <td>NaN</td>\n",
       "    </tr>\n",
       "    <tr>\n",
       "      <th>891198042573070336</th>\n",
       "      <td>0.848064</td>\n",
       "      <td>0.976537</td>\n",
       "      <td>0.848064</td>\n",
       "      <td>0.976537</td>\n",
       "      <td>0.914555</td>\n",
       "      <td>0.963504</td>\n",
       "      <td>0.927297</td>\n",
       "      <td>1.013526</td>\n",
       "      <td>True</td>\n",
       "      <td>False</td>\n",
       "      <td>1.0</td>\n",
       "      <td>1.0</td>\n",
       "      <td>1.0</td>\n",
       "      <td>1.0</td>\n",
       "      <td>NaN</td>\n",
       "      <td>NaN</td>\n",
       "    </tr>\n",
       "    <tr>\n",
       "      <th>891196209645441026</th>\n",
       "      <td>0.928433</td>\n",
       "      <td>1.000000</td>\n",
       "      <td>0.928433</td>\n",
       "      <td>1.000000</td>\n",
       "      <td>1.000000</td>\n",
       "      <td>1.000000</td>\n",
       "      <td>0.928433</td>\n",
       "      <td>1.000000</td>\n",
       "      <td>True</td>\n",
       "      <td>False</td>\n",
       "      <td>1.0</td>\n",
       "      <td>1.0</td>\n",
       "      <td>1.0</td>\n",
       "      <td>1.0</td>\n",
       "      <td>NaN</td>\n",
       "      <td>NaN</td>\n",
       "    </tr>\n",
       "    <tr>\n",
       "      <th>891190719318294531</th>\n",
       "      <td>0.911145</td>\n",
       "      <td>1.000000</td>\n",
       "      <td>0.911145</td>\n",
       "      <td>1.000000</td>\n",
       "      <td>0.981313</td>\n",
       "      <td>1.000000</td>\n",
       "      <td>0.928496</td>\n",
       "      <td>1.000000</td>\n",
       "      <td>True</td>\n",
       "      <td>False</td>\n",
       "      <td>1.0</td>\n",
       "      <td>1.0</td>\n",
       "      <td>1.0</td>\n",
       "      <td>1.0</td>\n",
       "      <td>NaN</td>\n",
       "      <td>NaN</td>\n",
       "    </tr>\n",
       "  </tbody>\n",
       "</table>\n",
       "</div>"
      ],
      "text/plain": [
       "                   Distance to query           Distance to positive            \\\n",
       "topic                         RTS212     RTS48               RTS212     RTS48   \n",
       "tweet_id                                                                        \n",
       "891189075146792964          0.831737  0.933903             0.831737  0.933903   \n",
       "891192015345508352          0.902292  1.000000             0.902292  1.000000   \n",
       "891189968542027776          0.914536  1.000000             0.914536  1.000000   \n",
       "891199263102971905          0.883805  1.000000             0.883805  1.000000   \n",
       "891200492033855489          1.000000  1.000000             0.904058  1.000000   \n",
       "891199879674032129          1.000000  1.000000             0.907173  1.000000   \n",
       "891200731113549824          0.991065  1.000000             0.921028  1.000000   \n",
       "891198042573070336          0.848064  0.976537             0.848064  0.976537   \n",
       "891196209645441026          0.928433  1.000000             0.928433  1.000000   \n",
       "891190719318294531          0.911145  1.000000             0.911145  1.000000   \n",
       "\n",
       "                   Distance to negative               Score            \\\n",
       "topic                            RTS212     RTS48    RTS212     RTS48   \n",
       "tweet_id                                                                \n",
       "891189075146792964             0.929974  0.978444  0.894367  0.954478   \n",
       "891192015345508352             0.991269  0.958139  0.910239  1.043690   \n",
       "891189968542027776             0.996492  1.000000  0.917755  1.000000   \n",
       "891199263102971905             0.960161  0.982371  0.920475  1.017946   \n",
       "891200492033855489             0.981782  0.976043  0.920834  1.024545   \n",
       "891199879674032129             0.982478  1.000000  0.923351  1.000000   \n",
       "891200731113549824             0.995372  0.988441  0.925310  1.011694   \n",
       "891198042573070336             0.914555  0.963504  0.927297  1.013526   \n",
       "891196209645441026             1.000000  1.000000  0.928433  1.000000   \n",
       "891190719318294531             0.981313  1.000000  0.928496  1.000000   \n",
       "\n",
       "                   retrieve        Positive       Negative       Relevance  \\\n",
       "topic                RTS212  RTS48   RTS212 RTS48   RTS212 RTS48    RTS212   \n",
       "tweet_id                                                                     \n",
       "891189075146792964     True   True      1.0   1.0      1.0   1.0       NaN   \n",
       "891192015345508352     True  False      1.0   1.0      1.0   1.0       NaN   \n",
       "891189968542027776     True  False      1.0   1.0      1.0   1.0       NaN   \n",
       "891199263102971905     True  False      2.0   1.0      1.0   1.0       1.0   \n",
       "891200492033855489     True  False      2.0   1.0      1.0   2.0       NaN   \n",
       "891199879674032129     True  False      2.0   1.0      1.0   1.0       NaN   \n",
       "891200731113549824     True  False      2.0   1.0      1.0   2.0       NaN   \n",
       "891198042573070336     True  False      1.0   1.0      1.0   1.0       NaN   \n",
       "891196209645441026     True  False      1.0   1.0      1.0   1.0       NaN   \n",
       "891190719318294531     True  False      1.0   1.0      1.0   1.0       NaN   \n",
       "\n",
       "                          \n",
       "topic              RTS48  \n",
       "tweet_id                  \n",
       "891189075146792964   NaN  \n",
       "891192015345508352   NaN  \n",
       "891189968542027776   NaN  \n",
       "891199263102971905   NaN  \n",
       "891200492033855489   NaN  \n",
       "891199879674032129   NaN  \n",
       "891200731113549824   NaN  \n",
       "891198042573070336   NaN  \n",
       "891196209645441026   NaN  \n",
       "891190719318294531   NaN  "
      ]
     },
     "execution_count": 10,
     "metadata": {},
     "output_type": "execute_result"
    }
   ],
   "source": [
    "point.sort_values(\n",
    "    [\n",
    "        ('Score', 'RTS212'),\n",
    "        ('Score', 'RTS48'),\n",
    "        ('Relevance', 'RTS212'),\n",
    "        ('Relevance', 'RTS48'),\n",
    "    ][0],\n",
    "    ascending=True,\n",
    ")[:10]"
   ]
  },
  {
   "cell_type": "code",
   "execution_count": 11,
   "metadata": {},
   "outputs": [
    {
     "data": {
      "image/png": "[encoded data removed]",
      "text/plain": [
       "<matplotlib.figure.Figure at 0x1025eeb00>"
      ]
     },
     "metadata": {},
     "output_type": "display_data"
    }
   ],
   "source": [
    "(point['Positive'] - point['Negative'])[topics].plot(use_index=False);"
   ]
  },
  {
   "cell_type": "code",
   "execution_count": 12,
   "metadata": {},
   "outputs": [],
   "source": [
    "relevance_score_by_topic = point.dropna('rows', how='all', subset=[('Relevance', 'RTS212'), ('Relevance', 'RTS48')]).fillna(-3)\n",
    "\n",
    "relevance_score_by_topic.columns.names = ['Type', 'Topic']\n",
    "\n",
    "relevance_score_by_topic = relevance_score_by_topic.stack('Topic').reset_index('Topic')"
   ]
  },
  {
   "cell_type": "code",
   "execution_count": 13,
   "metadata": {},
   "outputs": [
    {
     "data": {
      "text/plain": [
       "Topic\n",
       "RTS212    12.0\n",
       "RTS48      5.0\n",
       "dtype: float64"
      ]
     },
     "execution_count": 13,
     "metadata": {},
     "output_type": "execute_result"
    }
   ],
   "source": [
    "point['Relevance'].apply(lambda c: c.value_counts()).dropna(axis='columns', how='all').sum()"
   ]
  },
  {
   "cell_type": "code",
   "execution_count": 14,
   "metadata": {},
   "outputs": [
    {
     "data": {
      "image/png": "[encoded data removed]",
      "text/plain": [
       "<matplotlib.figure.Figure at 0x101f4f710>"
      ]
     },
     "metadata": {},
     "output_type": "display_data"
    }
   ],
   "source": [
    "sns.boxplot(data=relevance_score_by_topic, x='Relevance', y='Distance to query', hue='Topic');"
   ]
  },
  {
   "cell_type": "code",
   "execution_count": 15,
   "metadata": {},
   "outputs": [
    {
     "data": {
      "image/png": "[encoded data removed]",
      "text/plain": [
       "<matplotlib.figure.Figure at 0x1128721d0>"
      ]
     },
     "metadata": {},
     "output_type": "display_data"
    }
   ],
   "source": [
    "sns.boxplot(data=relevance_score_by_topic, x='Relevance', y='Score', hue='Topic');"
   ]
  },
  {
   "cell_type": "code",
   "execution_count": 16,
   "metadata": {},
   "outputs": [],
   "source": [
    "# point[['Distance to query', 'Score']].cummin().plot(use_index=False);"
   ]
  },
  {
   "cell_type": "code",
   "execution_count": 17,
   "metadata": {},
   "outputs": [],
   "source": [
    "# point[['Distance to query', 'Score']].rolling(1_000_000, min_periods=1).min().plot(use_index=False);"
   ]
  },
  {
   "cell_type": "code",
   "execution_count": 18,
   "metadata": {},
   "outputs": [
    {
     "data": {
      "text/plain": [
       "Topic\n",
       "RTS212    0.218738\n",
       "RTS48     0.230997\n",
       "dtype: float64"
      ]
     },
     "execution_count": 18,
     "metadata": {},
     "output_type": "execute_result"
    }
   ],
   "source": [
    "point['Distance to query'].corrwith(point['Score'])"
   ]
  },
  {
   "cell_type": "code",
   "execution_count": null,
   "metadata": {},
   "outputs": [],
   "source": []
  }
 ],
 "metadata": {
  "kernelspec": {
   "display_name": "Python 3",
   "language": "python",
   "name": "python3"
  },
  "language_info": {
   "codemirror_mode": {
    "name": "ipython",
    "version": 3
   },
   "file_extension": ".py",
   "mimetype": "text/x-python",
   "name": "python",
   "nbconvert_exporter": "python",
   "pygments_lexer": "ipython3",
   "version": "3.6.3"
  }
 },
 "nbformat": 4,
 "nbformat_minor": 2
}
