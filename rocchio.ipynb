{
 "cells": [
  {
   "cell_type": "code",
   "execution_count": 1,
   "metadata": {},
   "outputs": [],
   "source": [
    "%load_ext autoreload\n",
    "%autoreload 2"
   ]
  },
  {
   "cell_type": "code",
   "execution_count": 2,
   "metadata": {},
   "outputs": [],
   "source": [
    "%matplotlib inline"
   ]
  },
  {
   "cell_type": "code",
   "execution_count": 3,
   "metadata": {},
   "outputs": [],
   "source": [
    "# import sys\n",
    "\n",
    "# sys.path.extend(\n",
    "#     [\n",
    "#         'src/poultry',\n",
    "#     ]\n",
    "# )"
   ]
  },
  {
   "cell_type": "code",
   "execution_count": 4,
   "metadata": {},
   "outputs": [],
   "source": [
    "import json\n",
    "\n",
    "import pandas as pd\n",
    "import numpy as np\n",
    "import seaborn as sns\n",
    "import matplotlib.pyplot as plt"
   ]
  },
  {
   "cell_type": "code",
   "execution_count": 5,
   "metadata": {},
   "outputs": [],
   "source": [
    "qrels_nist = pd.read_csv(\n",
    "    'eval/RTS17/eval_qrelsfile',\n",
    "    sep='\\s+',\n",
    "    names=['topic', 'q0', 'tweet_id', 'judgment'],\n",
    "    usecols=['topic', 'tweet_id', 'judgment'],\n",
    "    header=None,\n",
    "    index_col=['tweet_id', 'topic'],\n",
    "    squeeze=True,\n",
    ")\n",
    "\n",
    "qrels_nist = qrels_nist[qrels_nist >= 0]\n",
    "\n",
    "qrels_nist.name = 'NIST'"
   ]
  },
  {
   "cell_type": "code",
   "execution_count": 6,
   "metadata": {},
   "outputs": [],
   "source": [
    "qrels_mobile = pd.read_csv(\n",
    "    'eval/RTS17/gundog/feedback/mobile-majority.txt',\n",
    "    sep='\\s+',\n",
    "    names=['topic', 'user', 'tweet_id', 'judgment', 'timestamp'],\n",
    "    usecols=['topic', 'tweet_id', 'judgment'],\n",
    "    header=None,\n",
    "    index_col=['tweet_id', 'topic'],\n",
    "    squeeze=True,\n",
    ")\n",
    "qrels_mobile.name = 'Mobile'"
   ]
  },
  {
   "cell_type": "code",
   "execution_count": 7,
   "metadata": {},
   "outputs": [],
   "source": [
    "_nist = pd.concat([qrels_nist.unstack('topic')], axis=1, keys=['NIST'])\n",
    "_mobile = pd.concat([qrels_mobile.unstack('topic')], axis=1, keys=['Mobile'])\n",
    "\n",
    "qrels = _nist.merge(_mobile, how='left', left_index=True, right_index=True)\n",
    "\n",
    "_qrels_mobile_or_nist = qrels['Mobile'].fillna(qrels['NIST'])\n",
    "_qrels_mobile_or_nist = pd.concat([_qrels_mobile_or_nist], axis=1, keys=['Relevance'])\n",
    "\n",
    "qrels = qrels.merge(\n",
    "    _qrels_mobile_or_nist, how='left', left_index=True, right_index=True\n",
    ")"
   ]
  },
  {
   "cell_type": "code",
   "execution_count": 8,
   "metadata": {},
   "outputs": [],
   "source": [
    "# %%time\n",
    "point = pd.read_csv(\n",
    "    'eval/RTS17/gundog/point/ngram-length(3)_keep-spam(1)_language(en)_extract-retweets(0)_keep-retweets(1)_negative-distance-threshold(0.8)_sample(1)_feedback(nist).point',\n",
    "#     'eval/RTS17/gundog/point/ngram-length(3)_keep-spam(1)_language(en)_extract-retweets(0)_keep-retweets(1)_negative-distance-threshold(0.8)_sample(1)_feedback(mobile-majority).point',\n",
    "#     'eval/RTS17/gundog/point/ngram-length(3)_feedback-pattern(mobile-majority)_feedback(nist)_pattern-mode(exact).point',\n",
    "#     'eval/RTS17/gundog/point/ngram-length(3)_feedback-pattern(mobile-majority)_feedback(nist)_pattern-mode(amount).point',\n",
    "    names=[\n",
    "        'Topic', 'tweet_id',\n",
    "        'Distance to query',\n",
    "        'Distance to positive', 'Distance to negative',\n",
    "        'Score',\n",
    "        'retrieve', 'Possible feedback',\n",
    "        'Positive', 'Negative',\n",
    "        'Time', 'retrieved_count'\n",
    "    ],\n",
    "    header=None,\n",
    "    parse_dates=['Time'],\n",
    "    low_memory=False,\n",
    ")#.dropna()\n",
    "\n",
    "point.sort_values(by=['Time', 'tweet_id', 'Topic'], inplace=True)\n",
    "\n",
    "point.drop_duplicates(subset=['tweet_id', 'Topic'], inplace=True)\n",
    "point.set_index(\n",
    "    [\n",
    "        'Time',\n",
    "        'tweet_id', 'Topic',\n",
    "    ],\n",
    "    inplace=True,\n",
    ")\n",
    "\n",
    "point = point.unstack('Topic')\n",
    "\n",
    "# point = pd.concat([point], axis=1, keys=['Point'])\n",
    "\n",
    "point = point.merge(\n",
    "    qrels, how='outer',\n",
    "    left_index=True, right_index=True,\n",
    ")\n",
    "\n",
    "point.columns.names = 'Variable', 'Topic'"
   ]
  },
  {
   "cell_type": "code",
   "execution_count": 9,
   "metadata": {},
   "outputs": [
    {
     "data": {
      "text/plain": [
       "96"
      ]
     },
     "execution_count": 9,
     "metadata": {},
     "output_type": "execute_result"
    }
   ],
   "source": [
    "topics = list(point['Relevance'].apply(lambda c: c.value_counts()).dropna(axis='columns', how='all').columns.values)\n",
    "len(topics)"
   ]
  },
  {
   "cell_type": "code",
   "execution_count": 10,
   "metadata": {},
   "outputs": [
    {
     "data": {
      "image/png": "[encoded data removed]",
      "text/plain": [
       "<matplotlib.figure.Figure at 0x1163d9978>"
      ]
     },
     "metadata": {},
     "output_type": "display_data"
    }
   ],
   "source": [
    "ax = (\n",
    "    pd.DataFrame(\n",
    "        {\n",
    "            'Positive': point['Positive']\n",
    "            .fillna(1).cummax(axis='rows')\n",
    "            .mean(axis='columns'),\n",
    "            'Negative': point['Negative']\n",
    "            .fillna(0).cummax(axis='rows')\n",
    "            .mean(axis='columns'),\n",
    "#             'Total': point['retrieved_count']\n",
    "#             .fillna(0).cummax(axis='rows')\n",
    "#             .mean(axis='columns')\n",
    "        }\n",
    "    )\n",
    "    .reset_index('tweet_id', drop=True)\n",
    "    .plot(\n",
    "        use_index=True,\n",
    "        figsize=(17, 7),\n",
    "    )\n",
    ")\n",
    "\n",
    "ax.figure.savefig('eval/RTS17/plots/feedback.pdf')"
   ]
  },
  {
   "cell_type": "code",
   "execution_count": 11,
   "metadata": {},
   "outputs": [
    {
     "data": {
      "text/plain": [
       "0.077228851154934622"
      ]
     },
     "execution_count": 11,
     "metadata": {},
     "output_type": "execute_result"
    }
   ],
   "source": [
    "point['Distance to query'].stack().corr(point['Score'].stack(), method='spearman')"
   ]
  },
  {
   "cell_type": "code",
   "execution_count": 12,
   "metadata": {},
   "outputs": [
    {
     "data": {
      "text/plain": [
       "0.47898779255661245"
      ]
     },
     "execution_count": 12,
     "metadata": {},
     "output_type": "execute_result"
    }
   ],
   "source": [
    "point['Score'].rank().corrwith(point['Distance to query'].rank()).sort_values(ascending=True).mean()"
   ]
  },
  {
   "cell_type": "code",
   "execution_count": 13,
   "metadata": {},
   "outputs": [
    {
     "data": {
      "image/png": "[encoded data removed]",
      "text/plain": [
       "<matplotlib.figure.Figure at 0x12c2496d8>"
      ]
     },
     "metadata": {},
     "output_type": "display_data"
    }
   ],
   "source": [
    "sns.swarmplot(\n",
    "    point['Score'].rank().corrwith(point['Distance to query'].rank()).sort_values(ascending=False)\n",
    ");"
   ]
  },
  {
   "cell_type": "code",
   "execution_count": 14,
   "metadata": {},
   "outputs": [],
   "source": [
    "by_topic = point.stack('Topic').reset_index('Topic').dropna(subset=['Relevance'])\n",
    "\n",
    "by_topic['Relevance'] = by_topic['Relevance'] > 0\n",
    "by_topic['Score'].clip(lower=0, upper=2, inplace=True)"
   ]
  },
  {
   "cell_type": "code",
   "execution_count": 15,
   "metadata": {},
   "outputs": [],
   "source": [
    "# %%time\n",
    "\n",
    "threshold = 0.8\n",
    "by_topic['retrieve_query'] = by_topic['Distance to query'] < threshold\n",
    "\n",
    "# by_topic['Kind'] = ''\n",
    "\n",
    "# by_topic.loc[\n",
    "#     (by_topic['retrieve_query'] & by_topic['retrieve'] & by_topic['Relevance']),\n",
    "#     'Kind'\n",
    "# ] = 'BothTN'\n",
    "\n",
    "for what, judgment in [\n",
    "    ('Kind', 'Relevance'),\n",
    "    ('Kind (NIST)', 'NIST'),\n",
    "    ('Kind (Mobile)', 'Mobile'),\n",
    "]:\n",
    "    by_topic[what] = by_topic.apply(\n",
    "        lambda r: {\n",
    "    #         (True, True, True): 'BothTP',\n",
    "    #         (True, True, False): 'BothFP',\n",
    "    #         (False, False, True): 'BothFN',\n",
    "    #         (False, False, False): 'BothTN',\n",
    "\n",
    "            (True, True, True): 'Correct',\n",
    "            (True, True, False): 'Wrong',\n",
    "            (False, False, True): 'Wrong',\n",
    "            (False, False, False): 'Correct',        \n",
    "\n",
    "            (True, False, True): 'ScoreTN',\n",
    "            (True, False, False): 'ScoreFN',\n",
    "            (False, True, True): 'ScoreTP',\n",
    "            (False, True, False): 'ScoreFP',\n",
    "        }.get(tuple(r.loc[['retrieve_query', 'retrieve', judgment]].values)),\n",
    "        axis='columns',\n",
    "    )"
   ]
  },
  {
   "cell_type": "code",
   "execution_count": 16,
   "metadata": {
    "scrolled": false
   },
   "outputs": [
    {
     "data": {
      "image/png": "[encoded data removed]",
      "text/plain": [
       "<matplotlib.figure.Figure at 0x15e137198>"
      ]
     },
     "metadata": {},
     "output_type": "display_data"
    }
   ],
   "source": [
    "sns.lmplot(\n",
    "    data=by_topic,\n",
    "    x='Distance to query', y='Score',\n",
    "    hue='Kind',\n",
    "    hue_order=[\n",
    "#         'BothTP', 'BothFP', # LL\n",
    "#         'BothTN', 'BothFN', # UR\n",
    "#         'Relevant', 'Non-relevant',\n",
    "        'Correct', 'Wrong',\n",
    "        'ScoreTP', 'ScoreFP', # LR\n",
    "        'ScoreTN', 'ScoreFN', # UL\n",
    "    ],\n",
    "    markers=[\n",
    "#         '.', '.',\n",
    "#         '.', '.',\n",
    "        '.', '.',\n",
    "        '+', '+',\n",
    "        'x', 'x',\n",
    "    ],\n",
    "    palette = {\n",
    "#         'BothTP': 'tab:green', 'BothFP': 'tab:red', # LL\n",
    "#         'BothTN': 'tab:red', 'BothFN': 'tab:green', # UR\n",
    "        'Correct': 'tab:green', 'Wrong': 'tab:red',\n",
    "        'Relevant': 'tab:green', 'Non-relevant': 'tab:red',\n",
    "        'ScoreTP': 'tab:green', 'ScoreFP': 'tab:red', # LR\n",
    "        'ScoreTN': 'tab:green', 'ScoreFN': 'tab:red', # UL\n",
    "    },\n",
    "    col='Topic',\n",
    "    col_order=[\n",
    "        'RTS114', 'RTS113',\n",
    "        'RTS167', 'RTS190',\n",
    "        'RTS73', 'RTS136',\n",
    "#         'RTS207', 'RTS204', # TOP: TN, FN\n",
    "#         'RTS219', 'RTS94', # TOP: TP, FP\n",
    "# #         'RTS94', 'RTS204',\n",
    "#         'RTS212', 'RTS48', # FINA, Panera Bread\n",
    "    ],\n",
    "    col_wrap=2,\n",
    "    ci=None,\n",
    "#     x_jitter=0.004,\n",
    "#     y_jitter=0.004,\n",
    "    sharex=True,\n",
    "    sharey=True,\n",
    "    fit_reg=False,\n",
    ");"
   ]
  },
  {
   "cell_type": "code",
   "execution_count": 17,
   "metadata": {},
   "outputs": [],
   "source": [
    "effect = by_topic.groupby(['Topic', 'Kind']).size().unstack('Kind').fillna(0)"
   ]
  },
  {
   "cell_type": "code",
   "execution_count": 18,
   "metadata": {},
   "outputs": [
    {
     "data": {
      "image/png": "[encoded data removed]",
      "text/plain": [
       "<matplotlib.figure.Figure at 0x1290b64e0>"
      ]
     },
     "metadata": {},
     "output_type": "display_data"
    }
   ],
   "source": [
    "total_effect = effect['ScoreTP'] + effect['ScoreTN'] + effect['ScoreFP'] + effect['ScoreFN']\n",
    "\n",
    "total_effect.plot.hist();"
   ]
  },
  {
   "cell_type": "code",
   "execution_count": 19,
   "metadata": {},
   "outputs": [
    {
     "data": {
      "text/plain": [
       "Topic\n",
       "RTS113    273.0\n",
       "RTS167    177.0\n",
       "RTS147    157.0\n",
       "RTS153    145.0\n",
       "RTS136    140.0\n",
       "RTS104    139.0\n",
       "RTS73     119.0\n",
       "RTS91     112.0\n",
       "RTS120    107.0\n",
       "RTS114    105.0\n",
       "dtype: float64"
      ]
     },
     "execution_count": 19,
     "metadata": {},
     "output_type": "execute_result"
    }
   ],
   "source": [
    "pd.concat(\n",
    "    [\n",
    "        total_effect.sort_values(ascending=False).head(10),\n",
    "#         total_effect.sort_values(ascending=False).tail(),\n",
    "    ]\n",
    ")"
   ]
  },
  {
   "cell_type": "code",
   "execution_count": 20,
   "metadata": {},
   "outputs": [],
   "source": [
    "for what, judgment in [\n",
    "    ('Error', 'Relevance'),\n",
    "    ('Error (NIST)', 'NIST'),\n",
    "    ('Error (Mobile)', 'Mobile'),\n",
    "]:\n",
    "    by_topic[what] = by_topic.apply(\n",
    "        lambda r: {\n",
    "            (True, True, True): 'TP',\n",
    "            (True, True, False): 'FP',\n",
    "            (False, False, True): 'FN',\n",
    "            (False, False, False): 'TP',        \n",
    "\n",
    "            (True, False, True): 'TN',\n",
    "            (True, False, False): 'FN',\n",
    "            (False, True, True): 'TP',\n",
    "            (False, True, False): 'FP',\n",
    "        }.get(tuple(r.loc[['retrieve_query', 'retrieve', judgment]].values)),\n",
    "        axis='columns',\n",
    "    )"
   ]
  },
  {
   "cell_type": "code",
   "execution_count": 21,
   "metadata": {},
   "outputs": [
    {
     "name": "stdout",
     "output_type": "stream",
     "text": [
      "F (avg per topic, Error): 0.52\n",
      "F (avg per topic, Error (NIST)): 0.52\n",
      "F (avg per topic, Error (Mobile)): 0.14\n"
     ]
    }
   ],
   "source": [
    "for what in 'Error', 'Error (NIST)', 'Error (Mobile)':\n",
    "    _ = by_topic.groupby(['Topic', what]).size().unstack(what).fillna(0)\n",
    "\n",
    "    _bs = 1 ** 2\n",
    "    FP = point['retrieve'].sum(axis='rows') -_.TP\n",
    "    _['F'] = ((1 + _bs) * _.TP) / ((1 + _bs) * _.TP + _bs * _.FN + FP)\n",
    "\n",
    "#     _['F'].plot.hist()\n",
    "\n",
    "    print('F (avg per topic, {}): {:0.2f}'.format(what, _.F.mean()))"
   ]
  },
  {
   "cell_type": "code",
   "execution_count": 22,
   "metadata": {},
   "outputs": [
    {
     "name": "stdout",
     "output_type": "stream",
     "text": [
      "F (over all topics, Error): 0.29\n",
      "F (over all topics, Error (NIST)): 0.29\n",
      "F (over all topics, Error (Mobile)): 0.06\n"
     ]
    }
   ],
   "source": [
    "for what in 'Error', 'Error (NIST)', 'Error (Mobile)':\n",
    "    _ = by_topic.groupby(what).size()\n",
    "\n",
    "    _bs = 1 ** 2\n",
    "    FP = (point['retrieve'] == True).sum().sum() -_.TP\n",
    "    print(\n",
    "        'F (over all topics, {}): {:0.2f}'.format(\n",
    "            what,\n",
    "            ((1 + _bs) * _.TP) / ((1 + _bs) * _.TP + _bs * _.FN + FP)\n",
    "        )\n",
    "    )"
   ]
  },
  {
   "cell_type": "code",
   "execution_count": null,
   "metadata": {},
   "outputs": [],
   "source": []
  },
  {
   "cell_type": "code",
   "execution_count": null,
   "metadata": {},
   "outputs": [],
   "source": [
    "_ = pd.DataFrame(list(qrels_nist.align(qrels_mobile))).T\n",
    "\n",
    "with open('eval/RTS17/gundog/topic-filter.txt') as f:\n",
    "    topic_filter = set(l.strip() for l in f)\n",
    "\n",
    "_ = _[_['NIST'].isna()].reset_index('topic').groupby('topic').size()[topic_filter].sort_values(ascending=False)\n",
    "\n",
    "_.plot.hist();\n",
    "\n",
    "_.head(20)"
   ]
  },
  {
   "cell_type": "code",
   "execution_count": null,
   "metadata": {},
   "outputs": [],
   "source": []
  },
  {
   "cell_type": "code",
   "execution_count": null,
   "metadata": {},
   "outputs": [],
   "source": [
    "# (\n",
    "#     by_topic.loc[\n",
    "#         (by_topic['Distance to query'] <= 0.8) & (by_topic['retrieve'] == False),\n",
    "#         ['Topic', 'Relevance']\n",
    "#     ]\n",
    "# ).groupby(['Topic', 'Relevance']).size().unstack('Relevance').sort_values(\n",
    "#     False, # Most improved recall\n",
    "# #     True, # Most deteriorated recall\n",
    "#     ascending=False\n",
    "# ).head()"
   ]
  },
  {
   "cell_type": "code",
   "execution_count": null,
   "metadata": {},
   "outputs": [],
   "source": [
    "# (\n",
    "#     by_topic.loc[\n",
    "#         (by_topic['Distance to query'] > 0.8) & (by_topic['retrieve'] == True),\n",
    "#         ['Topic', 'Relevance']\n",
    "#     ]\n",
    "# ).groupby(['Topic', 'Relevance']).size().unstack('Relevance').sort_values(\n",
    "# #     True, # Most improved precision\n",
    "#     False, # Most deteriorated precision\n",
    "#     ascending=False\n",
    "# ).head()"
   ]
  },
  {
   "cell_type": "code",
   "execution_count": null,
   "metadata": {},
   "outputs": [],
   "source": [
    "# _ = by_topic.groupby('Topic').apply(lambda df: df['Relevance'].value_counts()).unstack(1)\n",
    "# _['Total'] = _.sum(axis='columns')\n",
    "# _['True to False']  = _[True] / _[False]\n",
    "# _.sort_values('True to False', inplace=True, ascending=False)\n",
    "# _.head(10)"
   ]
  },
  {
   "cell_type": "code",
   "execution_count": null,
   "metadata": {},
   "outputs": [],
   "source": [
    "# sns.swarmplot(\n",
    "#     data=distance_score.loc['RTS212'], x='Variable', y='Value',\n",
    "#     hue='Relevance', hue_order=['Non-relevant', 'Relevant'],\n",
    "#     dodge=True,\n",
    "# );"
   ]
  },
  {
   "cell_type": "code",
   "execution_count": null,
   "metadata": {},
   "outputs": [],
   "source": [
    "# sns.swarmplot(\n",
    "#     data=distance_score.loc['RTS48'], x='Variable', y='Value',\n",
    "#     hue='Relevance', hue_order=['Non-relevant', 'Relevant'],\n",
    "#     dodge=True,\n",
    "# );"
   ]
  },
  {
   "cell_type": "code",
   "execution_count": null,
   "metadata": {},
   "outputs": [],
   "source": [
    "# sns.swarmplot(\n",
    "#     data=distance_score.loc['RTS207'], x='Variable', y='Value',\n",
    "#     hue='Relevance', hue_order=['Non-relevant', 'Relevant'],\n",
    "#     dodge=True,\n",
    "# );"
   ]
  },
  {
   "cell_type": "code",
   "execution_count": null,
   "metadata": {},
   "outputs": [],
   "source": [
    "# sns.swarmplot(\n",
    "#     data=distance_score.loc['RTS94'], x='Variable', y='Value',\n",
    "#     hue='Relevance', hue_order=['Non-relevant', 'Relevant'],\n",
    "#     dodge=True,\n",
    "# );"
   ]
  },
  {
   "cell_type": "code",
   "execution_count": null,
   "metadata": {},
   "outputs": [],
   "source": [
    "# sns.swarmplot(\n",
    "#     data=distance_score.loc['RTS47'], x='Variable', y='Value',\n",
    "#     hue='Relevance', hue_order=['Non-relevant', 'Relevant'],\n",
    "#     dodge=True,\n",
    "# );"
   ]
  },
  {
   "cell_type": "code",
   "execution_count": null,
   "metadata": {},
   "outputs": [],
   "source": []
  },
  {
   "cell_type": "code",
   "execution_count": null,
   "metadata": {
    "scrolled": false
   },
   "outputs": [],
   "source": [
    "# (\n",
    "#     point\n",
    "# #     .sort_values(\n",
    "# #         [\n",
    "# #     #             ('Relevance', 'RTS212'),\n",
    "# #                 ('Distance to query', 'RTS212'),\n",
    "# #     #             ('Distance to query', 'RTS48'),\n",
    "# #     #             ('Score', 'RTS212'),\n",
    "# #     #             ('Score', 'RTS48'),\n",
    "# #     #             ('Relevance', 'RTS212'),\n",
    "# #     #             ('Relevance', 'RTS48'),\n",
    "# #         ],\n",
    "# #         ascending=True,\n",
    "# #     )\n",
    "#     [\n",
    "#         [\n",
    "#             ('Distance to query', 'RTS212'),\n",
    "#             ('Score', 'RTS212'),\n",
    "#             ('retrieve', 'RTS212'),\n",
    "#             ('Relevance', 'RTS212'),\n",
    "#             ('Distance to positive', 'RTS212'),\n",
    "#             ('Distance to negative', 'RTS212'),\n",
    "#             ('Positive', 'RTS212'),\n",
    "#             ('Negative', 'RTS212'),\n",
    "#         ]\n",
    "#     ]\n",
    "#     .dropna(subset=[('Relevance', 'RTS212')], axis='rows', how='any')\n",
    "# )"
   ]
  },
  {
   "cell_type": "code",
   "execution_count": null,
   "metadata": {},
   "outputs": [],
   "source": []
  },
  {
   "cell_type": "code",
   "execution_count": null,
   "metadata": {},
   "outputs": [],
   "source": [
    "# distance_score = (\n",
    "#     point[['Distance to query', 'Score', 'Relevance', 'retrieve']]\n",
    "#     .stack(['Topic'])\n",
    "#     .set_index(['retrieve'] , append=True)\n",
    "#     .dropna(subset=['Relevance'])\n",
    "#     .set_index('Relevance', append=True)\n",
    "#     .stack().to_frame('Value')\n",
    "#     .reset_index()\n",
    "#     .set_index(['Topic', 'tweet_id'])\n",
    "# )\n",
    "# distance_score = distance_score[distance_score['Relevance'] >= 0]\n",
    "# distance_score['Relevance'] = distance_score['Relevance'] > 0\n",
    "\n",
    "# # distance_score.loc[:, 'Value'] = 1 / (1 + np.exp(-distance_score['Value']))\n",
    "\n",
    "# distance_score.loc[distance_score['Relevance'] > 0, 'Relevance'] = 'Relevant'\n",
    "# distance_score.loc[distance_score['Relevance'] == 0, 'Relevance'] = 'Non-relevant'\n",
    "\n",
    "# distance_score['Error'] = distance_score.apply(\n",
    "#     lambda r: {\n",
    "#         ('Relevant', True): 'TP',\n",
    "#         ('Relevant', False): 'FN',\n",
    "#         ('Non-relevant', True): 'FP',\n",
    "#         ('Non-relevant', False): 'TN',\n",
    "#     }[r['Relevance'], r['retrieve'] if r['Variable'] == 'Score' else r['Value'] < 0.8],\n",
    "#     axis='columns',\n",
    "# )"
   ]
  },
  {
   "cell_type": "code",
   "execution_count": null,
   "metadata": {
    "scrolled": true
   },
   "outputs": [],
   "source": [
    "# sns.swarmplot(\n",
    "#     distance_score.reset_index().set_index('Variable')\n",
    "#     .loc['Score', ['Topic', 'Relevance']]\n",
    "#     .reset_index()\n",
    "#     .groupby(['Topic', 'Relevance'])\n",
    "#     .size(),\n",
    "# #     .unstack('Topic')\n",
    "#     dodge=True,\n",
    "# );"
   ]
  },
  {
   "cell_type": "code",
   "execution_count": null,
   "metadata": {},
   "outputs": [],
   "source": [
    "# !mkdir -p eval/RTS17/plots/"
   ]
  },
  {
   "cell_type": "code",
   "execution_count": null,
   "metadata": {},
   "outputs": [],
   "source": [
    "# f, ax = plt.subplots(figsize=(14, 7))\n",
    "\n",
    "# sns.violinplot(\n",
    "#     data=distance_score, x='Variable', y='Value',\n",
    "#     hue='Relevance', hue_order=['Non-relevant', 'Relevant'], dodge=True,\n",
    "#     ax=ax,\n",
    "# );\n",
    "\n",
    "# f.savefig('eval/RTS17/plots/distance-score-comparison.pdf')"
   ]
  },
  {
   "cell_type": "code",
   "execution_count": null,
   "metadata": {},
   "outputs": [],
   "source": [
    "# f, ax = plt.subplots(figsize=(14, 7))\n",
    "\n",
    "# sns.swarmplot(\n",
    "#     data=distance_score, x='Variable', y='Value', hue='Error',\n",
    "#     hue_order=[\n",
    "#         'FN', 'FP', 'TN', 'TP',\n",
    "#     ],\n",
    "#     palette={\n",
    "#         'FN': 'r',\n",
    "#         'TN': 'g',\n",
    "#         'FP': 'r',\n",
    "#         'TP': 'g',\n",
    "#         'N': 'r',\n",
    "#         'P': 'g',\n",
    "#     },\n",
    "#     dodge=True,\n",
    "#     ax=ax,\n",
    "# );\n",
    "\n",
    "# f.savefig('eval/RTS17/plots/distance-score-comparison-error-type.pdf')"
   ]
  },
  {
   "cell_type": "markdown",
   "metadata": {},
   "source": [
    "# Mobile asessor agreement over time"
   ]
  },
  {
   "cell_type": "code",
   "execution_count": null,
   "metadata": {},
   "outputs": [],
   "source": [
    "mobile = pd.read_csv(\n",
    "    'eval/RTS17/qrels-crowd',\n",
    "    sep='\\s+',\n",
    "    header=None,\n",
    "    names=['Topic', 'Assessor', 'tweet_id', 'Judgment', 'timestampe'],\n",
    "    index_col=['Topic', 'tweet_id'],\n",
    ")"
   ]
  },
  {
   "cell_type": "code",
   "execution_count": null,
   "metadata": {},
   "outputs": [],
   "source": [
    "mobile_judgment = (\n",
    "    mobile['Judgment']\n",
    "    .groupby(level=['Topic', 'tweet_id'])\n",
    "    .value_counts()\n",
    "    .unstack('Judgment')\n",
    "    [[0, 1, 2]]\n",
    "    .fillna(0)\n",
    ")"
   ]
  },
  {
   "cell_type": "code",
   "execution_count": null,
   "metadata": {},
   "outputs": [],
   "source": [
    "mobile_judgment['Disagreement'] = mobile_judgment.max(axis='columns') != mobile_judgment.sum(axis='columns')"
   ]
  },
  {
   "cell_type": "code",
   "execution_count": null,
   "metadata": {},
   "outputs": [],
   "source": [
    "disagreement = (\n",
    "    mobile_judgment\n",
    "    .sort_index()\n",
    "    [['Disagreement']]\n",
    "#     .unstack('Topic')\n",
    "#     .fillna(0)\n",
    "#     .cumsum(axis='rows')\n",
    "#     .sum(axis='columns')\n",
    "#     .plot(use_index=False)\n",
    ");"
   ]
  },
  {
   "cell_type": "code",
   "execution_count": null,
   "metadata": {},
   "outputs": [],
   "source": [
    "disagreement['position'] = disagreement.groupby(level=['Topic']).cumcount()\n",
    "disagreement['disagreements'] = disagreement['Disagreement'].groupby(level=['Topic']).cumsum()"
   ]
  },
  {
   "cell_type": "code",
   "execution_count": null,
   "metadata": {},
   "outputs": [],
   "source": [
    "(\n",
    "    disagreement.loc[\n",
    "        (disagreement['Disagreement'] & disagreement['disagreements'] == 1),\n",
    "        'position'\n",
    "    ]\n",
    "    .groupby(level=['Topic']).first()\n",
    "    .value_counts()\n",
    "#     .sort_values(ascending=False)\n",
    "    .sort_index()\n",
    "#     .head(20)\n",
    "    .plot(kind='bar', figsize=(14,7))\n",
    ");"
   ]
  },
  {
   "cell_type": "code",
   "execution_count": null,
   "metadata": {},
   "outputs": [],
   "source": [
    "# mobile_judgment.loc['RTS151']"
   ]
  },
  {
   "cell_type": "code",
   "execution_count": null,
   "metadata": {},
   "outputs": [],
   "source": []
  },
  {
   "cell_type": "code",
   "execution_count": null,
   "metadata": {},
   "outputs": [],
   "source": []
  },
  {
   "cell_type": "code",
   "execution_count": null,
   "metadata": {},
   "outputs": [],
   "source": []
  },
  {
   "cell_type": "code",
   "execution_count": null,
   "metadata": {},
   "outputs": [],
   "source": []
  },
  {
   "cell_type": "code",
   "execution_count": null,
   "metadata": {},
   "outputs": [],
   "source": []
  },
  {
   "cell_type": "code",
   "execution_count": null,
   "metadata": {},
   "outputs": [],
   "source": []
  },
  {
   "cell_type": "code",
   "execution_count": null,
   "metadata": {},
   "outputs": [],
   "source": []
  },
  {
   "cell_type": "code",
   "execution_count": null,
   "metadata": {},
   "outputs": [],
   "source": []
  },
  {
   "cell_type": "code",
   "execution_count": null,
   "metadata": {},
   "outputs": [],
   "source": []
  },
  {
   "cell_type": "code",
   "execution_count": null,
   "metadata": {},
   "outputs": [],
   "source": []
  },
  {
   "cell_type": "code",
   "execution_count": null,
   "metadata": {},
   "outputs": [],
   "source": []
  },
  {
   "cell_type": "code",
   "execution_count": null,
   "metadata": {},
   "outputs": [],
   "source": []
  },
  {
   "cell_type": "code",
   "execution_count": null,
   "metadata": {},
   "outputs": [],
   "source": []
  },
  {
   "cell_type": "code",
   "execution_count": null,
   "metadata": {},
   "outputs": [],
   "source": []
  },
  {
   "cell_type": "code",
   "execution_count": null,
   "metadata": {},
   "outputs": [],
   "source": []
  },
  {
   "cell_type": "code",
   "execution_count": null,
   "metadata": {},
   "outputs": [],
   "source": []
  },
  {
   "cell_type": "code",
   "execution_count": null,
   "metadata": {},
   "outputs": [],
   "source": []
  },
  {
   "cell_type": "code",
   "execution_count": null,
   "metadata": {},
   "outputs": [],
   "source": []
  },
  {
   "cell_type": "code",
   "execution_count": null,
   "metadata": {},
   "outputs": [],
   "source": []
  },
  {
   "cell_type": "code",
   "execution_count": null,
   "metadata": {},
   "outputs": [],
   "source": []
  },
  {
   "cell_type": "code",
   "execution_count": null,
   "metadata": {},
   "outputs": [],
   "source": []
  },
  {
   "cell_type": "code",
   "execution_count": null,
   "metadata": {},
   "outputs": [],
   "source": []
  },
  {
   "cell_type": "code",
   "execution_count": null,
   "metadata": {},
   "outputs": [],
   "source": []
  },
  {
   "cell_type": "code",
   "execution_count": null,
   "metadata": {},
   "outputs": [],
   "source": []
  },
  {
   "cell_type": "code",
   "execution_count": null,
   "metadata": {},
   "outputs": [],
   "source": []
  },
  {
   "cell_type": "code",
   "execution_count": null,
   "metadata": {},
   "outputs": [],
   "source": []
  },
  {
   "cell_type": "code",
   "execution_count": null,
   "metadata": {},
   "outputs": [],
   "source": []
  },
  {
   "cell_type": "code",
   "execution_count": null,
   "metadata": {},
   "outputs": [],
   "source": []
  },
  {
   "cell_type": "code",
   "execution_count": null,
   "metadata": {},
   "outputs": [],
   "source": []
  }
 ],
 "metadata": {
  "kernelspec": {
   "display_name": "Python 3",
   "language": "python",
   "name": "python3"
  },
  "language_info": {
   "codemirror_mode": {
    "name": "ipython",
    "version": 3
   },
   "file_extension": ".py",
   "mimetype": "text/x-python",
   "name": "python",
   "nbconvert_exporter": "python",
   "pygments_lexer": "ipython3",
   "version": "3.6.3"
  }
 },
 "nbformat": 4,
 "nbformat_minor": 2
}
