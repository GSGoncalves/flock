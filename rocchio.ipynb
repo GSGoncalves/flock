{
 "cells": [
  {
   "cell_type": "code",
   "execution_count": 1,
   "metadata": {},
   "outputs": [],
   "source": [
    "%load_ext autoreload\n",
    "%autoreload 2"
   ]
  },
  {
   "cell_type": "code",
   "execution_count": 2,
   "metadata": {},
   "outputs": [],
   "source": [
    "%matplotlib inline"
   ]
  },
  {
   "cell_type": "code",
   "execution_count": 3,
   "metadata": {},
   "outputs": [],
   "source": [
    "# import sys\n",
    "\n",
    "# sys.path.extend(\n",
    "#     [\n",
    "#         'src/poultry',\n",
    "#     ]\n",
    "# )"
   ]
  },
  {
   "cell_type": "code",
   "execution_count": 4,
   "metadata": {},
   "outputs": [],
   "source": [
    "import string\n",
    "import json\n",
    "from itertools import chain, islice\n",
    "from collections import deque\n",
    "\n",
    "import numpy as np\n",
    "import pandas as pd\n",
    "import seaborn as sns\n",
    "import matplotlib.pyplot as plt\n",
    "\n",
    "from sklearn.metrics.pairwise import pairwise_distances"
   ]
  },
  {
   "cell_type": "code",
   "execution_count": 5,
   "metadata": {},
   "outputs": [],
   "source": [
    "with open('eval/RTS17/topics.json') as f:\n",
    "    topics = json.load(f)\n",
    "topics = [topics[-22], topics[2]]\n",
    "queries = [t['title'] for t in topics]"
   ]
  },
  {
   "cell_type": "code",
   "execution_count": 6,
   "metadata": {},
   "outputs": [],
   "source": [
    "qrels = pd.read_csv(\n",
    "    'eval/RTS17/eval_qrelsfile',\n",
    "    sep=' ',\n",
    "    names=['topic', 'q0', 'tweet_id', 'judgment'],\n",
    "    usecols=['topic', 'tweet_id', 'judgment'],\n",
    "    header=None,\n",
    "    index_col=['tweet_id', 'topic'],\n",
    "    squeeze=True,\n",
    ").unstack('topic')\n",
    "\n",
    "qrels = qrels[['RTS212', 'RTS48']]\n",
    "\n",
    "qrels = pd.concat([qrels], axis=1, keys=['Relevance'])"
   ]
  },
  {
   "cell_type": "code",
   "execution_count": 7,
   "metadata": {},
   "outputs": [
    {
     "name": "stderr",
     "output_type": "stream",
     "text": [
      "/diskp/dnm11/miniconda3/lib/python3.6/site-packages/IPython/core/interactiveshell.py:2728: DtypeWarning: Columns (6) have mixed types. Specify dtype option on import or set low_memory=False.\n",
      "  interactivity=interactivity, compiler=compiler, result=result)\n"
     ]
    }
   ],
   "source": [
    "point = pd.read_csv(\n",
    "    'eval/RTS17/gundog/ngram-length(3)_keep-spam(0)_language(en)_extract-retweets(1)_keep-retweets(0).point',\n",
    "    sep=' ',\n",
    "    names=[\n",
    "        'topic', 'tweet_id',\n",
    "        'Distance to query',\n",
    "        'Distance to positive', 'Distance to negative',\n",
    "        'Score',\n",
    "        'retrieve', 'Positive', 'Negative',\n",
    "    ],\n",
    "    header=None,\n",
    "    index_col=['tweet_id', 'topic'],\n",
    "    squeeze=True,\n",
    "#     dtype={'Negative': int},\n",
    ").unstack('topic')\n",
    "\n",
    "# point = pd.concat([point], axis=1, keys=['Point'])\n",
    "\n",
    "point = point.merge(\n",
    "    qrels, how='left',\n",
    "    left_index=True, right_index=True,\n",
    ")\n",
    "\n",
    "point.columns.names = 'Variable', 'Topic'"
   ]
  },
  {
   "cell_type": "code",
   "execution_count": 8,
   "metadata": {},
   "outputs": [
    {
     "data": {
      "text/plain": [
       "3008352"
      ]
     },
     "execution_count": 8,
     "metadata": {},
     "output_type": "execute_result"
    }
   ],
   "source": [
    "point.size"
   ]
  },
  {
   "cell_type": "code",
   "execution_count": 9,
   "metadata": {},
   "outputs": [],
   "source": [
    "topics = list(point['Relevance'].apply(lambda c: c.value_counts()).dropna(axis='columns', how='all').columns.values)"
   ]
  },
  {
   "cell_type": "code",
   "execution_count": 10,
   "metadata": {},
   "outputs": [],
   "source": [
    "# (\n",
    "#     point['Distance to query'][topics]\n",
    "#     .apply(np.vectorize(lambda v: v if v < 0.9 else None)).dropna(how='all')\n",
    "#     .plot(style='o', use_index=False, figsize=(14, 6))\n",
    "# );"
   ]
  },
  {
   "cell_type": "code",
   "execution_count": 11,
   "metadata": {},
   "outputs": [
    {
     "data": {
      "text/html": [
       "<div>\n",
       "<style scoped>\n",
       "    .dataframe tbody tr th:only-of-type {\n",
       "        vertical-align: middle;\n",
       "    }\n",
       "\n",
       "    .dataframe tbody tr th {\n",
       "        vertical-align: top;\n",
       "    }\n",
       "\n",
       "    .dataframe thead tr th {\n",
       "        text-align: left;\n",
       "    }\n",
       "\n",
       "    .dataframe thead tr:last-of-type th {\n",
       "        text-align: right;\n",
       "    }\n",
       "</style>\n",
       "<table border=\"1\" class=\"dataframe\">\n",
       "  <thead>\n",
       "    <tr>\n",
       "      <th>Variable</th>\n",
       "      <th colspan=\"2\" halign=\"left\">Distance to query</th>\n",
       "      <th colspan=\"2\" halign=\"left\">Distance to positive</th>\n",
       "      <th colspan=\"2\" halign=\"left\">Distance to negative</th>\n",
       "      <th colspan=\"2\" halign=\"left\">Score</th>\n",
       "      <th colspan=\"2\" halign=\"left\">retrieve</th>\n",
       "      <th colspan=\"2\" halign=\"left\">Positive</th>\n",
       "      <th colspan=\"2\" halign=\"left\">Negative</th>\n",
       "      <th colspan=\"2\" halign=\"left\">Relevance</th>\n",
       "    </tr>\n",
       "    <tr>\n",
       "      <th>Topic</th>\n",
       "      <th>RTS212</th>\n",
       "      <th>RTS48</th>\n",
       "      <th>RTS212</th>\n",
       "      <th>RTS48</th>\n",
       "      <th>RTS212</th>\n",
       "      <th>RTS48</th>\n",
       "      <th>RTS212</th>\n",
       "      <th>RTS48</th>\n",
       "      <th>RTS212</th>\n",
       "      <th>RTS48</th>\n",
       "      <th>RTS212</th>\n",
       "      <th>RTS48</th>\n",
       "      <th>RTS212</th>\n",
       "      <th>RTS48</th>\n",
       "      <th>RTS212</th>\n",
       "      <th>RTS48</th>\n",
       "    </tr>\n",
       "    <tr>\n",
       "      <th>tweet_id</th>\n",
       "      <th></th>\n",
       "      <th></th>\n",
       "      <th></th>\n",
       "      <th></th>\n",
       "      <th></th>\n",
       "      <th></th>\n",
       "      <th></th>\n",
       "      <th></th>\n",
       "      <th></th>\n",
       "      <th></th>\n",
       "      <th></th>\n",
       "      <th></th>\n",
       "      <th></th>\n",
       "      <th></th>\n",
       "      <th></th>\n",
       "      <th></th>\n",
       "    </tr>\n",
       "  </thead>\n",
       "  <tbody>\n",
       "    <tr>\n",
       "      <th>891215331473096704</th>\n",
       "      <td>0.946797</td>\n",
       "      <td>0.969328</td>\n",
       "      <td>0.478271</td>\n",
       "      <td>0.969328</td>\n",
       "      <td>0.961149</td>\n",
       "      <td>0.949459</td>\n",
       "      <td>0.497603</td>\n",
       "      <td>1.020926</td>\n",
       "      <td>True</td>\n",
       "      <td>False</td>\n",
       "      <td>4.0</td>\n",
       "      <td>1.0</td>\n",
       "      <td>3.0</td>\n",
       "      <td>2.0</td>\n",
       "      <td>1.0</td>\n",
       "      <td>NaN</td>\n",
       "    </tr>\n",
       "    <tr>\n",
       "      <th>891208243359490051</th>\n",
       "      <td>0.867146</td>\n",
       "      <td>1.000000</td>\n",
       "      <td>0.503911</td>\n",
       "      <td>1.000000</td>\n",
       "      <td>0.940283</td>\n",
       "      <td>0.948409</td>\n",
       "      <td>0.535915</td>\n",
       "      <td>1.054398</td>\n",
       "      <td>True</td>\n",
       "      <td>False</td>\n",
       "      <td>5.0</td>\n",
       "      <td>1.0</td>\n",
       "      <td>4.0</td>\n",
       "      <td>2.0</td>\n",
       "      <td>1.0</td>\n",
       "      <td>NaN</td>\n",
       "    </tr>\n",
       "    <tr>\n",
       "      <th>891259744958033922</th>\n",
       "      <td>0.899579</td>\n",
       "      <td>1.000000</td>\n",
       "      <td>0.478812</td>\n",
       "      <td>1.000000</td>\n",
       "      <td>0.855451</td>\n",
       "      <td>0.959356</td>\n",
       "      <td>0.559719</td>\n",
       "      <td>1.042366</td>\n",
       "      <td>True</td>\n",
       "      <td>False</td>\n",
       "      <td>9.0</td>\n",
       "      <td>1.0</td>\n",
       "      <td>8.0</td>\n",
       "      <td>3.0</td>\n",
       "      <td>1.0</td>\n",
       "      <td>NaN</td>\n",
       "    </tr>\n",
       "    <tr>\n",
       "      <th>891235790344335360</th>\n",
       "      <td>0.873471</td>\n",
       "      <td>0.986585</td>\n",
       "      <td>0.646754</td>\n",
       "      <td>0.986585</td>\n",
       "      <td>0.914942</td>\n",
       "      <td>0.929168</td>\n",
       "      <td>0.706880</td>\n",
       "      <td>1.061793</td>\n",
       "      <td>True</td>\n",
       "      <td>False</td>\n",
       "      <td>6.0</td>\n",
       "      <td>1.0</td>\n",
       "      <td>5.0</td>\n",
       "      <td>2.0</td>\n",
       "      <td>1.0</td>\n",
       "      <td>NaN</td>\n",
       "    </tr>\n",
       "    <tr>\n",
       "      <th>890960124243783681</th>\n",
       "      <td>0.878503</td>\n",
       "      <td>0.981605</td>\n",
       "      <td>0.790102</td>\n",
       "      <td>0.981605</td>\n",
       "      <td>0.937993</td>\n",
       "      <td>0.981446</td>\n",
       "      <td>0.842333</td>\n",
       "      <td>1.000162</td>\n",
       "      <td>True</td>\n",
       "      <td>False</td>\n",
       "      <td>8.0</td>\n",
       "      <td>1.0</td>\n",
       "      <td>5.0</td>\n",
       "      <td>3.0</td>\n",
       "      <td>1.0</td>\n",
       "      <td>NaN</td>\n",
       "    </tr>\n",
       "    <tr>\n",
       "      <th>890015143056220161</th>\n",
       "      <td>0.734364</td>\n",
       "      <td>1.000000</td>\n",
       "      <td>0.734364</td>\n",
       "      <td>1.000000</td>\n",
       "      <td>0.857840</td>\n",
       "      <td>0.942013</td>\n",
       "      <td>0.856062</td>\n",
       "      <td>1.061556</td>\n",
       "      <td>True</td>\n",
       "      <td>False</td>\n",
       "      <td>10.0</td>\n",
       "      <td>1.0</td>\n",
       "      <td>9.0</td>\n",
       "      <td>4.0</td>\n",
       "      <td>NaN</td>\n",
       "      <td>NaN</td>\n",
       "    </tr>\n",
       "    <tr>\n",
       "      <th>891212986857254912</th>\n",
       "      <td>0.877858</td>\n",
       "      <td>1.000000</td>\n",
       "      <td>0.865857</td>\n",
       "      <td>1.000000</td>\n",
       "      <td>0.991415</td>\n",
       "      <td>0.965207</td>\n",
       "      <td>0.873355</td>\n",
       "      <td>1.036048</td>\n",
       "      <td>True</td>\n",
       "      <td>False</td>\n",
       "      <td>3.0</td>\n",
       "      <td>1.0</td>\n",
       "      <td>3.0</td>\n",
       "      <td>2.0</td>\n",
       "      <td>NaN</td>\n",
       "      <td>NaN</td>\n",
       "    </tr>\n",
       "    <tr>\n",
       "      <th>891176583968550913</th>\n",
       "      <td>0.890592</td>\n",
       "      <td>1.000000</td>\n",
       "      <td>0.803958</td>\n",
       "      <td>1.000000</td>\n",
       "      <td>0.913052</td>\n",
       "      <td>0.950135</td>\n",
       "      <td>0.880518</td>\n",
       "      <td>1.052482</td>\n",
       "      <td>True</td>\n",
       "      <td>False</td>\n",
       "      <td>18.0</td>\n",
       "      <td>1.0</td>\n",
       "      <td>12.0</td>\n",
       "      <td>4.0</td>\n",
       "      <td>1.0</td>\n",
       "      <td>NaN</td>\n",
       "    </tr>\n",
       "    <tr>\n",
       "      <th>891153319477075968</th>\n",
       "      <td>0.748445</td>\n",
       "      <td>1.000000</td>\n",
       "      <td>0.748445</td>\n",
       "      <td>1.000000</td>\n",
       "      <td>0.850000</td>\n",
       "      <td>0.850000</td>\n",
       "      <td>0.880523</td>\n",
       "      <td>1.176471</td>\n",
       "      <td>True</td>\n",
       "      <td>False</td>\n",
       "      <td>1.0</td>\n",
       "      <td>1.0</td>\n",
       "      <td>0.0</td>\n",
       "      <td>0.0</td>\n",
       "      <td>NaN</td>\n",
       "      <td>NaN</td>\n",
       "    </tr>\n",
       "    <tr>\n",
       "      <th>891207215494946816</th>\n",
       "      <td>0.887706</td>\n",
       "      <td>1.000000</td>\n",
       "      <td>0.844327</td>\n",
       "      <td>1.000000</td>\n",
       "      <td>0.958673</td>\n",
       "      <td>0.957534</td>\n",
       "      <td>0.880725</td>\n",
       "      <td>1.044350</td>\n",
       "      <td>True</td>\n",
       "      <td>False</td>\n",
       "      <td>3.0</td>\n",
       "      <td>1.0</td>\n",
       "      <td>3.0</td>\n",
       "      <td>2.0</td>\n",
       "      <td>1.0</td>\n",
       "      <td>NaN</td>\n",
       "    </tr>\n",
       "  </tbody>\n",
       "</table>\n",
       "</div>"
      ],
      "text/plain": [
       "Variable           Distance to query           Distance to positive            \\\n",
       "Topic                         RTS212     RTS48               RTS212     RTS48   \n",
       "tweet_id                                                                        \n",
       "891215331473096704          0.946797  0.969328             0.478271  0.969328   \n",
       "891208243359490051          0.867146  1.000000             0.503911  1.000000   \n",
       "891259744958033922          0.899579  1.000000             0.478812  1.000000   \n",
       "891235790344335360          0.873471  0.986585             0.646754  0.986585   \n",
       "890960124243783681          0.878503  0.981605             0.790102  0.981605   \n",
       "890015143056220161          0.734364  1.000000             0.734364  1.000000   \n",
       "891212986857254912          0.877858  1.000000             0.865857  1.000000   \n",
       "891176583968550913          0.890592  1.000000             0.803958  1.000000   \n",
       "891153319477075968          0.748445  1.000000             0.748445  1.000000   \n",
       "891207215494946816          0.887706  1.000000             0.844327  1.000000   \n",
       "\n",
       "Variable           Distance to negative               Score            \\\n",
       "Topic                            RTS212     RTS48    RTS212     RTS48   \n",
       "tweet_id                                                                \n",
       "891215331473096704             0.961149  0.949459  0.497603  1.020926   \n",
       "891208243359490051             0.940283  0.948409  0.535915  1.054398   \n",
       "891259744958033922             0.855451  0.959356  0.559719  1.042366   \n",
       "891235790344335360             0.914942  0.929168  0.706880  1.061793   \n",
       "890960124243783681             0.937993  0.981446  0.842333  1.000162   \n",
       "890015143056220161             0.857840  0.942013  0.856062  1.061556   \n",
       "891212986857254912             0.991415  0.965207  0.873355  1.036048   \n",
       "891176583968550913             0.913052  0.950135  0.880518  1.052482   \n",
       "891153319477075968             0.850000  0.850000  0.880523  1.176471   \n",
       "891207215494946816             0.958673  0.957534  0.880725  1.044350   \n",
       "\n",
       "Variable           retrieve        Positive       Negative       Relevance  \\\n",
       "Topic                RTS212  RTS48   RTS212 RTS48   RTS212 RTS48    RTS212   \n",
       "tweet_id                                                                     \n",
       "891215331473096704     True  False      4.0   1.0      3.0   2.0       1.0   \n",
       "891208243359490051     True  False      5.0   1.0      4.0   2.0       1.0   \n",
       "891259744958033922     True  False      9.0   1.0      8.0   3.0       1.0   \n",
       "891235790344335360     True  False      6.0   1.0      5.0   2.0       1.0   \n",
       "890960124243783681     True  False      8.0   1.0      5.0   3.0       1.0   \n",
       "890015143056220161     True  False     10.0   1.0      9.0   4.0       NaN   \n",
       "891212986857254912     True  False      3.0   1.0      3.0   2.0       NaN   \n",
       "891176583968550913     True  False     18.0   1.0     12.0   4.0       1.0   \n",
       "891153319477075968     True  False      1.0   1.0      0.0   0.0       NaN   \n",
       "891207215494946816     True  False      3.0   1.0      3.0   2.0       1.0   \n",
       "\n",
       "Variable                  \n",
       "Topic              RTS48  \n",
       "tweet_id                  \n",
       "891215331473096704   NaN  \n",
       "891208243359490051   NaN  \n",
       "891259744958033922   NaN  \n",
       "891235790344335360   NaN  \n",
       "890960124243783681   NaN  \n",
       "890015143056220161   NaN  \n",
       "891212986857254912   NaN  \n",
       "891176583968550913   NaN  \n",
       "891153319477075968   NaN  \n",
       "891207215494946816   NaN  "
      ]
     },
     "execution_count": 11,
     "metadata": {},
     "output_type": "execute_result"
    }
   ],
   "source": [
    "point.sort_values(\n",
    "    [\n",
    "        ('Score', 'RTS212'),\n",
    "        ('Score', 'RTS48'),\n",
    "        ('Relevance', 'RTS212'),\n",
    "        ('Relevance', 'RTS48'),\n",
    "    ][0],\n",
    "    ascending=True,\n",
    ")[:10]"
   ]
  },
  {
   "cell_type": "code",
   "execution_count": 12,
   "metadata": {},
   "outputs": [
    {
     "data": {
      "image/png": "[encoded data removed]",
      "text/plain": [
       "<matplotlib.figure.Figure at 0x7f299550da58>"
      ]
     },
     "metadata": {},
     "output_type": "display_data"
    }
   ],
   "source": [
    "(\n",
    "    point['Positive']\n",
    "#     point['retrieve'].cumsum()\n",
    "    - point['Negative'])[topics].rolling(10_000).mean().plot(use_index=False, figsize=(17, 7)\n",
    ");"
   ]
  },
  {
   "cell_type": "code",
   "execution_count": 13,
   "metadata": {},
   "outputs": [
    {
     "data": {
      "text/html": [
       "<div>\n",
       "<style scoped>\n",
       "    .dataframe tbody tr th:only-of-type {\n",
       "        vertical-align: middle;\n",
       "    }\n",
       "\n",
       "    .dataframe tbody tr th {\n",
       "        vertical-align: top;\n",
       "    }\n",
       "\n",
       "    .dataframe thead th {\n",
       "        text-align: right;\n",
       "    }\n",
       "</style>\n",
       "<table border=\"1\" class=\"dataframe\">\n",
       "  <thead>\n",
       "    <tr style=\"text-align: right;\">\n",
       "      <th>Topic</th>\n",
       "      <th>RTS212</th>\n",
       "      <th>RTS48</th>\n",
       "    </tr>\n",
       "  </thead>\n",
       "  <tbody>\n",
       "    <tr>\n",
       "      <th>0.0</th>\n",
       "      <td>29</td>\n",
       "      <td>12.0</td>\n",
       "    </tr>\n",
       "    <tr>\n",
       "      <th>1.0</th>\n",
       "      <td>26</td>\n",
       "      <td>NaN</td>\n",
       "    </tr>\n",
       "  </tbody>\n",
       "</table>\n",
       "</div>"
      ],
      "text/plain": [
       "Topic  RTS212  RTS48\n",
       "0.0        29   12.0\n",
       "1.0        26    NaN"
      ]
     },
     "execution_count": 13,
     "metadata": {},
     "output_type": "execute_result"
    }
   ],
   "source": [
    "point['Relevance'].apply(lambda c: c.value_counts()).dropna(axis='columns', how='all')"
   ]
  },
  {
   "cell_type": "code",
   "execution_count": 14,
   "metadata": {},
   "outputs": [],
   "source": [
    "distance_score = (\n",
    "    point[['Distance to query', 'Score', 'Relevance']]\n",
    "    .stack('Topic')\n",
    "    .dropna(subset=['Relevance'])\n",
    "    .set_index('Relevance', append=True)\n",
    "    .stack().to_frame('Value')\n",
    "    .reset_index()\n",
    "    .set_index(['Topic', 'tweet_id'])\n",
    ")"
   ]
  },
  {
   "cell_type": "code",
   "execution_count": 15,
   "metadata": {},
   "outputs": [
    {
     "data": {
      "image/png": "[encoded data removed]",
      "text/plain": [
       "<matplotlib.figure.Figure at 0x7f2990c46828>"
      ]
     },
     "metadata": {},
     "output_type": "display_data"
    }
   ],
   "source": [
    "sns.swarmplot(\n",
    "    data=distance_score, x='Variable', y='Value', hue='Relevance', hue_order=[0, 1, 2], dodge=True\n",
    ");"
   ]
  },
  {
   "cell_type": "code",
   "execution_count": 16,
   "metadata": {},
   "outputs": [
    {
     "data": {
      "image/png": "[encoded data removed]",
      "text/plain": [
       "<matplotlib.figure.Figure at 0x7f2990637128>"
      ]
     },
     "metadata": {},
     "output_type": "display_data"
    }
   ],
   "source": [
    "sns.swarmplot(\n",
    "    data=distance_score.loc['RTS212'], x='Variable', y='Value', hue='Relevance', hue_order=[0, 1, 2], dodge=True\n",
    ");"
   ]
  },
  {
   "cell_type": "code",
   "execution_count": 17,
   "metadata": {},
   "outputs": [
    {
     "data": {
      "image/png": "[encoded data removed]",
      "text/plain": [
       "<matplotlib.figure.Figure at 0x7f2990bac320>"
      ]
     },
     "metadata": {},
     "output_type": "display_data"
    }
   ],
   "source": [
    "sns.swarmplot(\n",
    "    data=distance_score.loc['RTS48'], x='Variable', y='Value', hue='Relevance', hue_order=[0, 1, 2], dodge=True\n",
    ");"
   ]
  },
  {
   "cell_type": "code",
   "execution_count": 18,
   "metadata": {},
   "outputs": [],
   "source": [
    "# point[['Distance to query', 'Score']].cummin().plot(use_index=False);"
   ]
  },
  {
   "cell_type": "code",
   "execution_count": 19,
   "metadata": {},
   "outputs": [],
   "source": [
    "# point[['Distance to query', 'Score']].rolling(1_000_000, min_periods=1).min().plot(use_index=False);"
   ]
  },
  {
   "cell_type": "code",
   "execution_count": 20,
   "metadata": {},
   "outputs": [
    {
     "data": {
      "text/plain": [
       "Topic\n",
       "RTS212    0.151787\n",
       "RTS48     0.276929\n",
       "dtype: float64"
      ]
     },
     "execution_count": 20,
     "metadata": {},
     "output_type": "execute_result"
    }
   ],
   "source": [
    "point['Distance to query'].corrwith(point['Score'])"
   ]
  },
  {
   "cell_type": "code",
   "execution_count": null,
   "metadata": {},
   "outputs": [],
   "source": []
  }
 ],
 "metadata": {
  "kernelspec": {
   "display_name": "Python 3",
   "language": "python",
   "name": "python3"
  },
  "language_info": {
   "codemirror_mode": {
    "name": "ipython",
    "version": 3
   },
   "file_extension": ".py",
   "mimetype": "text/x-python",
   "name": "python",
   "nbconvert_exporter": "python",
   "pygments_lexer": "ipython3",
   "version": "3.6.3"
  }
 },
 "nbformat": 4,
 "nbformat_minor": 2
}
