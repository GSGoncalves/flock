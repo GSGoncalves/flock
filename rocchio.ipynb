{
 "cells": [
  {
   "cell_type": "code",
   "execution_count": 1,
   "metadata": {},
   "outputs": [],
   "source": [
    "%load_ext autoreload\n",
    "%autoreload 2"
   ]
  },
  {
   "cell_type": "code",
   "execution_count": 2,
   "metadata": {},
   "outputs": [],
   "source": [
    "%matplotlib inline"
   ]
  },
  {
   "cell_type": "code",
   "execution_count": 3,
   "metadata": {},
   "outputs": [],
   "source": [
    "# import sys\n",
    "\n",
    "# sys.path.extend(\n",
    "#     [\n",
    "#         'src/poultry',\n",
    "#     ]\n",
    "# )"
   ]
  },
  {
   "cell_type": "code",
   "execution_count": 4,
   "metadata": {},
   "outputs": [],
   "source": [
    "import string\n",
    "import json\n",
    "from itertools import chain, islice\n",
    "from collections import deque\n",
    "\n",
    "import numpy as np\n",
    "import pandas as pd\n",
    "import seaborn as sns\n",
    "import matplotlib.pyplot as plt\n",
    "\n",
    "from sklearn.metrics.pairwise import pairwise_distances"
   ]
  },
  {
   "cell_type": "code",
   "execution_count": 5,
   "metadata": {},
   "outputs": [],
   "source": [
    "with open('eval/RTS17/topics.json') as f:\n",
    "    topics = json.load(f)\n",
    "topics = [topics[-22], topics[2]]\n",
    "queries = [t['title'] for t in topics]"
   ]
  },
  {
   "cell_type": "code",
   "execution_count": 52,
   "metadata": {},
   "outputs": [],
   "source": [
    "qrels = pd.read_csv(\n",
    "    'eval/RTS17/eval_qrelsfile',\n",
    "    sep=' ',\n",
    "    names=['topic', 'q0', 'tweet_id', 'judgment'],\n",
    "    usecols=['topic', 'tweet_id', 'judgment'],\n",
    "    header=None,\n",
    "    index_col=['tweet_id', 'topic'],\n",
    "    squeeze=True,\n",
    ").unstack('topic')\n",
    "\n",
    "qrels = qrels[['RTS212', 'RTS48']]\n",
    "\n",
    "qrels = pd.concat([qrels], axis=1, keys=['Relevance'])"
   ]
  },
  {
   "cell_type": "code",
   "execution_count": 54,
   "metadata": {},
   "outputs": [
    {
     "data": {
      "text/plain": [
       "5991008"
      ]
     },
     "execution_count": 54,
     "metadata": {},
     "output_type": "execute_result"
    }
   ],
   "source": [
    "point = pd.read_csv(\n",
    "    'eval/RTS17/gundog/ngram-length(3)_keep-spam(0)_language(en)_extract-retweets(0)'\n",
    "    '_keep-retweets(1)_negative-distance-threshold(0.8).point',\n",
    "#     sep=' ',\n",
    "    names=[\n",
    "        'Topic', 'tweet_id',\n",
    "        'Distance to query',\n",
    "        'Distance to positive', 'Distance to negative',\n",
    "        'Score',\n",
    "        'retrieve', 'Positive', 'Negative',\n",
    "        'Time',\n",
    "    ],\n",
    "    header=None,\n",
    "    parse_dates=True,\n",
    "    low_memory=False,\n",
    ").dropna()\n",
    "\n",
    "point['Time'] = point['Time'].cummax()\n",
    "\n",
    "point = point.set_index(['Time', 'tweet_id', 'Topic']).unstack('Topic')\n",
    "\n",
    "# point = pd.concat([point], axis=1, keys=['Point'])\n",
    "\n",
    "point = point.merge(\n",
    "    qrels, how='left',\n",
    "    left_index=True, right_index=True,\n",
    ")\n",
    "\n",
    "point.columns.names = 'Variable', 'Topic'\n",
    "\n",
    "point.size"
   ]
  },
  {
   "cell_type": "code",
   "execution_count": 55,
   "metadata": {},
   "outputs": [],
   "source": [
    "topics = list(point['Relevance'].apply(lambda c: c.value_counts()).dropna(axis='columns', how='all').columns.values)"
   ]
  },
  {
   "cell_type": "code",
   "execution_count": 56,
   "metadata": {},
   "outputs": [],
   "source": [
    "# (\n",
    "#     point['Distance to query'][topics]\n",
    "#     .apply(np.vectorize(lambda v: v if v < 0.9 else None)).dropna(how='all')\n",
    "#     .plot(style='o', use_index=False, figsize=(14, 6))\n",
    "# );"
   ]
  },
  {
   "cell_type": "code",
   "execution_count": 57,
   "metadata": {},
   "outputs": [
    {
     "data": {
      "text/html": [
       "<div>\n",
       "<style scoped>\n",
       "    .dataframe tbody tr th:only-of-type {\n",
       "        vertical-align: middle;\n",
       "    }\n",
       "\n",
       "    .dataframe tbody tr th {\n",
       "        vertical-align: top;\n",
       "    }\n",
       "\n",
       "    .dataframe thead tr th {\n",
       "        text-align: left;\n",
       "    }\n",
       "\n",
       "    .dataframe thead tr:last-of-type th {\n",
       "        text-align: right;\n",
       "    }\n",
       "</style>\n",
       "<table border=\"1\" class=\"dataframe\">\n",
       "  <thead>\n",
       "    <tr>\n",
       "      <th></th>\n",
       "      <th>Variable</th>\n",
       "      <th colspan=\"2\" halign=\"left\">Distance to query</th>\n",
       "      <th colspan=\"2\" halign=\"left\">Distance to positive</th>\n",
       "      <th colspan=\"2\" halign=\"left\">Distance to negative</th>\n",
       "      <th colspan=\"2\" halign=\"left\">Score</th>\n",
       "      <th colspan=\"2\" halign=\"left\">retrieve</th>\n",
       "      <th colspan=\"2\" halign=\"left\">Positive</th>\n",
       "      <th colspan=\"2\" halign=\"left\">Negative</th>\n",
       "      <th colspan=\"2\" halign=\"left\">Relevance</th>\n",
       "    </tr>\n",
       "    <tr>\n",
       "      <th></th>\n",
       "      <th>Topic</th>\n",
       "      <th>RTS212</th>\n",
       "      <th>RTS48</th>\n",
       "      <th>RTS212</th>\n",
       "      <th>RTS48</th>\n",
       "      <th>RTS212</th>\n",
       "      <th>RTS48</th>\n",
       "      <th>RTS212</th>\n",
       "      <th>RTS48</th>\n",
       "      <th>RTS212</th>\n",
       "      <th>RTS48</th>\n",
       "      <th>RTS212</th>\n",
       "      <th>RTS48</th>\n",
       "      <th>RTS212</th>\n",
       "      <th>RTS48</th>\n",
       "      <th>RTS212</th>\n",
       "      <th>RTS48</th>\n",
       "    </tr>\n",
       "    <tr>\n",
       "      <th>Time</th>\n",
       "      <th>tweet_id</th>\n",
       "      <th></th>\n",
       "      <th></th>\n",
       "      <th></th>\n",
       "      <th></th>\n",
       "      <th></th>\n",
       "      <th></th>\n",
       "      <th></th>\n",
       "      <th></th>\n",
       "      <th></th>\n",
       "      <th></th>\n",
       "      <th></th>\n",
       "      <th></th>\n",
       "      <th></th>\n",
       "      <th></th>\n",
       "      <th></th>\n",
       "      <th></th>\n",
       "    </tr>\n",
       "  </thead>\n",
       "  <tbody>\n",
       "    <tr>\n",
       "      <th>2017-07-29 17:05:36</th>\n",
       "      <th>891343966578372608</th>\n",
       "      <td>0.705152</td>\n",
       "      <td>1.0</td>\n",
       "      <td>0.705152</td>\n",
       "      <td>0.976451</td>\n",
       "      <td>0.813649</td>\n",
       "      <td>0.976864</td>\n",
       "      <td>0.881440</td>\n",
       "      <td>1.220564</td>\n",
       "      <td>True</td>\n",
       "      <td>False</td>\n",
       "      <td>3</td>\n",
       "      <td>2</td>\n",
       "      <td>1</td>\n",
       "      <td>4</td>\n",
       "      <td>NaN</td>\n",
       "      <td>NaN</td>\n",
       "    </tr>\n",
       "    <tr>\n",
       "      <th>2017-07-29 17:05:16</th>\n",
       "      <th>891343882683899904</th>\n",
       "      <td>0.705400</td>\n",
       "      <td>1.0</td>\n",
       "      <td>0.705400</td>\n",
       "      <td>0.976473</td>\n",
       "      <td>0.813818</td>\n",
       "      <td>0.976886</td>\n",
       "      <td>0.881750</td>\n",
       "      <td>1.220592</td>\n",
       "      <td>True</td>\n",
       "      <td>False</td>\n",
       "      <td>3</td>\n",
       "      <td>2</td>\n",
       "      <td>1</td>\n",
       "      <td>4</td>\n",
       "      <td>NaN</td>\n",
       "      <td>NaN</td>\n",
       "    </tr>\n",
       "    <tr>\n",
       "      <th>2017-07-29 12:16:52</th>\n",
       "      <th>891271304447311872</th>\n",
       "      <td>0.733639</td>\n",
       "      <td>1.0</td>\n",
       "      <td>0.733639</td>\n",
       "      <td>1.000000</td>\n",
       "      <td>0.800000</td>\n",
       "      <td>0.958772</td>\n",
       "      <td>0.917049</td>\n",
       "      <td>1.250000</td>\n",
       "      <td>True</td>\n",
       "      <td>False</td>\n",
       "      <td>2</td>\n",
       "      <td>1</td>\n",
       "      <td>0</td>\n",
       "      <td>3</td>\n",
       "      <td>NaN</td>\n",
       "      <td>NaN</td>\n",
       "    </tr>\n",
       "    <tr>\n",
       "      <th>2017-07-29 16:53:35</th>\n",
       "      <th>891340942514507776</th>\n",
       "      <td>0.736290</td>\n",
       "      <td>1.0</td>\n",
       "      <td>0.736290</td>\n",
       "      <td>1.000000</td>\n",
       "      <td>0.848466</td>\n",
       "      <td>0.967336</td>\n",
       "      <td>0.920362</td>\n",
       "      <td>1.250000</td>\n",
       "      <td>True</td>\n",
       "      <td>False</td>\n",
       "      <td>3</td>\n",
       "      <td>1</td>\n",
       "      <td>1</td>\n",
       "      <td>4</td>\n",
       "      <td>NaN</td>\n",
       "      <td>NaN</td>\n",
       "    </tr>\n",
       "    <tr>\n",
       "      <th>2017-07-29 16:51:13</th>\n",
       "      <th>891340346914820096</th>\n",
       "      <td>0.736933</td>\n",
       "      <td>1.0</td>\n",
       "      <td>0.736933</td>\n",
       "      <td>1.000000</td>\n",
       "      <td>0.848866</td>\n",
       "      <td>0.967420</td>\n",
       "      <td>0.921166</td>\n",
       "      <td>1.250000</td>\n",
       "      <td>True</td>\n",
       "      <td>False</td>\n",
       "      <td>3</td>\n",
       "      <td>1</td>\n",
       "      <td>1</td>\n",
       "      <td>4</td>\n",
       "      <td>NaN</td>\n",
       "      <td>NaN</td>\n",
       "    </tr>\n",
       "  </tbody>\n",
       "</table>\n",
       "</div>"
      ],
      "text/plain": [
       "Variable                               Distance to query        \\\n",
       "Topic                                             RTS212 RTS48   \n",
       "Time                tweet_id                                     \n",
       "2017-07-29 17:05:36 891343966578372608          0.705152   1.0   \n",
       "2017-07-29 17:05:16 891343882683899904          0.705400   1.0   \n",
       "2017-07-29 12:16:52 891271304447311872          0.733639   1.0   \n",
       "2017-07-29 16:53:35 891340942514507776          0.736290   1.0   \n",
       "2017-07-29 16:51:13 891340346914820096          0.736933   1.0   \n",
       "\n",
       "Variable                               Distance to positive            \\\n",
       "Topic                                                RTS212     RTS48   \n",
       "Time                tweet_id                                            \n",
       "2017-07-29 17:05:36 891343966578372608             0.705152  0.976451   \n",
       "2017-07-29 17:05:16 891343882683899904             0.705400  0.976473   \n",
       "2017-07-29 12:16:52 891271304447311872             0.733639  1.000000   \n",
       "2017-07-29 16:53:35 891340942514507776             0.736290  1.000000   \n",
       "2017-07-29 16:51:13 891340346914820096             0.736933  1.000000   \n",
       "\n",
       "Variable                               Distance to negative            \\\n",
       "Topic                                                RTS212     RTS48   \n",
       "Time                tweet_id                                            \n",
       "2017-07-29 17:05:36 891343966578372608             0.813649  0.976864   \n",
       "2017-07-29 17:05:16 891343882683899904             0.813818  0.976886   \n",
       "2017-07-29 12:16:52 891271304447311872             0.800000  0.958772   \n",
       "2017-07-29 16:53:35 891340942514507776             0.848466  0.967336   \n",
       "2017-07-29 16:51:13 891340346914820096             0.848866  0.967420   \n",
       "\n",
       "Variable                                   Score           retrieve         \\\n",
       "Topic                                     RTS212     RTS48   RTS212  RTS48   \n",
       "Time                tweet_id                                                 \n",
       "2017-07-29 17:05:36 891343966578372608  0.881440  1.220564     True  False   \n",
       "2017-07-29 17:05:16 891343882683899904  0.881750  1.220592     True  False   \n",
       "2017-07-29 12:16:52 891271304447311872  0.917049  1.250000     True  False   \n",
       "2017-07-29 16:53:35 891340942514507776  0.920362  1.250000     True  False   \n",
       "2017-07-29 16:51:13 891340346914820096  0.921166  1.250000     True  False   \n",
       "\n",
       "Variable                               Positive       Negative        \\\n",
       "Topic                                    RTS212 RTS48   RTS212 RTS48   \n",
       "Time                tweet_id                                           \n",
       "2017-07-29 17:05:36 891343966578372608        3     2        1     4   \n",
       "2017-07-29 17:05:16 891343882683899904        3     2        1     4   \n",
       "2017-07-29 12:16:52 891271304447311872        2     1        0     3   \n",
       "2017-07-29 16:53:35 891340942514507776        3     1        1     4   \n",
       "2017-07-29 16:51:13 891340346914820096        3     1        1     4   \n",
       "\n",
       "Variable                               Relevance        \n",
       "Topic                                     RTS212 RTS48  \n",
       "Time                tweet_id                            \n",
       "2017-07-29 17:05:36 891343966578372608       NaN   NaN  \n",
       "2017-07-29 17:05:16 891343882683899904       NaN   NaN  \n",
       "2017-07-29 12:16:52 891271304447311872       NaN   NaN  \n",
       "2017-07-29 16:53:35 891340942514507776       NaN   NaN  \n",
       "2017-07-29 16:51:13 891340346914820096       NaN   NaN  "
      ]
     },
     "execution_count": 57,
     "metadata": {},
     "output_type": "execute_result"
    }
   ],
   "source": [
    "point.sort_values(\n",
    "    [\n",
    "        ('Score', 'RTS212'),\n",
    "        ('Score', 'RTS48'),\n",
    "        ('Relevance', 'RTS212'),\n",
    "        ('Relevance', 'RTS48'),\n",
    "    ][0],\n",
    "    ascending=True,\n",
    ")[:5]"
   ]
  },
  {
   "cell_type": "code",
   "execution_count": 58,
   "metadata": {},
   "outputs": [
    {
     "data": {
      "image/png": "[encoded data removed]",
      "text/plain": [
       "<matplotlib.figure.Figure at 0x129488320>"
      ]
     },
     "metadata": {},
     "output_type": "display_data"
    }
   ],
   "source": [
    "(\n",
    "    (\n",
    "        point['Positive']\n",
    "        #point['retrieve'].cumsum()\n",
    "        - point['Negative']\n",
    "    )[topics]\n",
    "#     .rolling(1_000).mean()\n",
    "    .reset_index('tweet_id', drop=True).plot(\n",
    "        title='Difference betweet positive and negative feedback',\n",
    "        figsize=(17, 7),\n",
    "    )\n",
    ");"
   ]
  },
  {
   "cell_type": "code",
   "execution_count": 31,
   "metadata": {},
   "outputs": [
    {
     "data": {
      "text/html": [
       "<div>\n",
       "<style scoped>\n",
       "    .dataframe tbody tr th:only-of-type {\n",
       "        vertical-align: middle;\n",
       "    }\n",
       "\n",
       "    .dataframe tbody tr th {\n",
       "        vertical-align: top;\n",
       "    }\n",
       "\n",
       "    .dataframe thead th {\n",
       "        text-align: right;\n",
       "    }\n",
       "</style>\n",
       "<table border=\"1\" class=\"dataframe\">\n",
       "  <thead>\n",
       "    <tr style=\"text-align: right;\">\n",
       "      <th>Topic</th>\n",
       "      <th>RTS212</th>\n",
       "      <th>RTS48</th>\n",
       "    </tr>\n",
       "  </thead>\n",
       "  <tbody>\n",
       "    <tr>\n",
       "      <th>-2.0</th>\n",
       "      <td>3</td>\n",
       "      <td>1.0</td>\n",
       "    </tr>\n",
       "    <tr>\n",
       "      <th>0.0</th>\n",
       "      <td>33</td>\n",
       "      <td>15.0</td>\n",
       "    </tr>\n",
       "    <tr>\n",
       "      <th>1.0</th>\n",
       "      <td>16</td>\n",
       "      <td>NaN</td>\n",
       "    </tr>\n",
       "  </tbody>\n",
       "</table>\n",
       "</div>"
      ],
      "text/plain": [
       "Topic  RTS212  RTS48\n",
       "-2.0        3    1.0\n",
       " 0.0       33   15.0\n",
       " 1.0       16    NaN"
      ]
     },
     "execution_count": 31,
     "metadata": {},
     "output_type": "execute_result"
    }
   ],
   "source": [
    "point['Relevance'].apply(lambda c: c.value_counts()).dropna(axis='columns', how='all')"
   ]
  },
  {
   "cell_type": "code",
   "execution_count": 13,
   "metadata": {},
   "outputs": [],
   "source": [
    "distance_score = (\n",
    "    point[['Distance to query', 'Score', 'Relevance']]\n",
    "    .stack('Topic')\n",
    "    .dropna(subset=['Relevance'])\n",
    "    .set_index('Relevance', append=True)\n",
    "    .stack().to_frame('Value')\n",
    "    .reset_index()\n",
    "    .set_index(['Topic', 'tweet_id'])\n",
    ")"
   ]
  },
  {
   "cell_type": "code",
   "execution_count": 14,
   "metadata": {},
   "outputs": [
    {
     "data": {
      "image/png": "[encoded data removed]",
      "text/plain": [
       "<matplotlib.figure.Figure at 0x11632e748>"
      ]
     },
     "metadata": {},
     "output_type": "display_data"
    }
   ],
   "source": [
    "sns.swarmplot(\n",
    "    data=distance_score, x='Variable', y='Value', hue='Relevance', hue_order=[0, 1, 2], dodge=True\n",
    ");"
   ]
  },
  {
   "cell_type": "code",
   "execution_count": 15,
   "metadata": {},
   "outputs": [
    {
     "data": {
      "image/png": "[encoded data removed]",
      "text/plain": [
       "<matplotlib.figure.Figure at 0x1158dc278>"
      ]
     },
     "metadata": {},
     "output_type": "display_data"
    }
   ],
   "source": [
    "sns.swarmplot(\n",
    "    data=distance_score.loc['RTS212'], x='Variable', y='Value', hue='Relevance', hue_order=[0, 1, 2], dodge=True\n",
    ");"
   ]
  },
  {
   "cell_type": "code",
   "execution_count": 16,
   "metadata": {},
   "outputs": [
    {
     "data": {
      "image/png": "[encoded data removed]",
      "text/plain": [
       "<matplotlib.figure.Figure at 0x103006400>"
      ]
     },
     "metadata": {},
     "output_type": "display_data"
    }
   ],
   "source": [
    "sns.swarmplot(\n",
    "    data=distance_score.loc['RTS48'], x='Variable', y='Value', hue='Relevance', hue_order=[0, 1, 2], dodge=True\n",
    ");"
   ]
  },
  {
   "cell_type": "code",
   "execution_count": 17,
   "metadata": {},
   "outputs": [],
   "source": [
    "# point[['Distance to query', 'Score']].cummin().plot(use_index=False);"
   ]
  },
  {
   "cell_type": "code",
   "execution_count": 18,
   "metadata": {},
   "outputs": [],
   "source": [
    "# point[['Distance to query', 'Score']].rolling(1_000_000, min_periods=1).min().plot(use_index=False);"
   ]
  },
  {
   "cell_type": "code",
   "execution_count": 19,
   "metadata": {},
   "outputs": [
    {
     "data": {
      "text/plain": [
       "Topic\n",
       "RTS212    0.644797\n",
       "RTS48     0.915166\n",
       "dtype: float64"
      ]
     },
     "execution_count": 19,
     "metadata": {},
     "output_type": "execute_result"
    }
   ],
   "source": [
    "point['Distance to query'].corrwith(point['Score'])"
   ]
  },
  {
   "cell_type": "code",
   "execution_count": null,
   "metadata": {},
   "outputs": [],
   "source": []
  }
 ],
 "metadata": {
  "kernelspec": {
   "display_name": "Python 3",
   "language": "python",
   "name": "python3"
  },
  "language_info": {
   "codemirror_mode": {
    "name": "ipython",
    "version": 3
   },
   "file_extension": ".py",
   "mimetype": "text/x-python",
   "name": "python",
   "nbconvert_exporter": "python",
   "pygments_lexer": "ipython3",
   "version": "3.6.3"
  }
 },
 "nbformat": 4,
 "nbformat_minor": 2
}
