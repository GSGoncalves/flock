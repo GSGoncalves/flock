{
 "cells": [
  {
   "cell_type": "code",
   "execution_count": 1,
   "metadata": {},
   "outputs": [],
   "source": [
    "%load_ext autoreload\n",
    "%autoreload 2"
   ]
  },
  {
   "cell_type": "code",
   "execution_count": 2,
   "metadata": {},
   "outputs": [],
   "source": [
    "import sys\n",
    "\n",
    "sys.path.extend(\n",
    "    [\n",
    "        'src/poultry',\n",
    "    ]\n",
    ")"
   ]
  },
  {
   "cell_type": "code",
   "execution_count": 407,
   "metadata": {},
   "outputs": [],
   "source": [
    "import string\n",
    "from itertools import chain\n",
    "from collections import deque\n",
    "\n",
    "import numpy as np\n",
    "from sklearn.metrics.pairwise import pairwise_distances"
   ]
  },
  {
   "cell_type": "code",
   "execution_count": 224,
   "metadata": {},
   "outputs": [],
   "source": [
    "tweet = 'a some text! я'"
   ]
  },
  {
   "cell_type": "code",
   "execution_count": 225,
   "metadata": {},
   "outputs": [],
   "source": [
    "class Vectorizer:\n",
    "\n",
    "    def __init__(self, features=string.ascii_lowercase + string.digits, length=3):\n",
    "        self.all_features = set(features)\n",
    "        self.feature_map = {f: i for i, f in enumerate(features, start=1)}\n",
    "        self.length = length\n",
    "\n",
    "    def features(self, text):\n",
    "        text = text.lower()\n",
    "    \n",
    "        features = filter(None, (self.feature_map.get(f) for f in text))\n",
    "        features = chain(features, [0] * (self.length - 1))\n",
    "\n",
    "        window = deque([0] * (self.length - 1), self.length)\n",
    "        for current in features:\n",
    "            window.append(current)\n",
    "            yield sum(f * len(self.all_features) ** i for i, f in enumerate(reversed(window)))\n",
    "            \n",
    "    def __call__(self, text):\n",
    "        return np.fromiter(self.features(text), int)"
   ]
  },
  {
   "cell_type": "code",
   "execution_count": 226,
   "metadata": {},
   "outputs": [],
   "source": [
    "vectorizer = Vectorizer()"
   ]
  },
  {
   "cell_type": "code",
   "execution_count": 227,
   "metadata": {},
   "outputs": [
    {
     "data": {
      "text/plain": [
       "1"
      ]
     },
     "execution_count": 227,
     "metadata": {},
     "output_type": "execute_result"
    }
   ],
   "source": [
    "vectorizer.feature_map[tweet[0]]"
   ]
  },
  {
   "cell_type": "code",
   "execution_count": 229,
   "metadata": {},
   "outputs": [],
   "source": [
    "# vectorizer.feature_map[tweet[0]], vectorizer.feature_map[tweet[1]]"
   ]
  },
  {
   "cell_type": "code",
   "execution_count": 230,
   "metadata": {},
   "outputs": [
    {
     "data": {
      "text/plain": [
       "array([    1,    55,  1995, 25177, 19913, 17048,  7205, 26124,  7364,\n",
       "       31824, 25920])"
      ]
     },
     "execution_count": 230,
     "metadata": {},
     "output_type": "execute_result"
    }
   ],
   "source": [
    "vectorizer(tweet)"
   ]
  },
  {
   "cell_type": "code",
   "execution_count": null,
   "metadata": {},
   "outputs": [],
   "source": []
  },
  {
   "cell_type": "code",
   "execution_count": 432,
   "metadata": {},
   "outputs": [],
   "source": [
    "class Collection:\n",
    "    \n",
    "    def __init__(self, vectorizer):\n",
    "        self.vectorizer = vectorizer\n",
    "        self.df = np.zeros(len(vectorizer.feature_map) ** vectorizer.length)\n",
    "            \n",
    "    def append(self, text):        \n",
    "        features = self.vectorizer(text)\n",
    "        self.df[features] += 1\n",
    "\n",
    "        return self._idf(features)\n",
    " \n",
    "    def __getitem__(self, key):\n",
    "        features = self.vectorizer(key)\n",
    "        return self._idf(features)\n",
    "\n",
    "    def _idf(self, features):\n",
    "        result = np.zeros(self.df.shape[0])\n",
    "        result[features] = 1 / self.df[features]\n",
    "        return result\n",
    "        \n",
    "    def distance(self, one, another, metric='cosine'):\n",
    "        if isinstance(one, str):\n",
    "            one = [one]\n",
    "        if isinstance(another, str):\n",
    "            another = [another]\n",
    "        return pairwise_distances(\n",
    "            list(map(self.__getitem__, one)),\n",
    "            list(map(self.__getitem__, another)),\n",
    "            metric=metric,\n",
    "        )\n"
   ]
  },
  {
   "cell_type": "code",
   "execution_count": 452,
   "metadata": {},
   "outputs": [],
   "source": [
    "collection = Collection(vectorizer)"
   ]
  },
  {
   "cell_type": "code",
   "execution_count": 453,
   "metadata": {},
   "outputs": [
    {
     "data": {
      "text/plain": [
       "array([ 0.,  1.,  0., ...,  0.,  0.,  0.])"
      ]
     },
     "execution_count": 453,
     "metadata": {},
     "output_type": "execute_result"
    }
   ],
   "source": [
    "collection.append('a tweet')"
   ]
  },
  {
   "cell_type": "code",
   "execution_count": 454,
   "metadata": {},
   "outputs": [
    {
     "data": {
      "text/plain": [
       "array([ 0. ,  0.5,  0. , ...,  0. ,  0. ,  0. ])"
      ]
     },
     "execution_count": 454,
     "metadata": {},
     "output_type": "execute_result"
    }
   ],
   "source": [
    "collection.append('another tweet')"
   ]
  },
  {
   "cell_type": "code",
   "execution_count": 455,
   "metadata": {},
   "outputs": [
    {
     "data": {
      "text/plain": [
       "array([ 0. ,  0.5,  0. , ...,  0. ,  0. ,  0. ])"
      ]
     },
     "execution_count": 455,
     "metadata": {},
     "output_type": "execute_result"
    }
   ],
   "source": [
    "collection['a tweet']"
   ]
  },
  {
   "cell_type": "code",
   "execution_count": 456,
   "metadata": {},
   "outputs": [
    {
     "data": {
      "text/plain": [
       "array([[ 0.73986701]])"
      ]
     },
     "execution_count": 456,
     "metadata": {},
     "output_type": "execute_result"
    }
   ],
   "source": [
    "collection.distance('a tweet', 'another tweet')"
   ]
  },
  {
   "cell_type": "code",
   "execution_count": 457,
   "metadata": {},
   "outputs": [
    {
     "data": {
      "text/plain": [
       "array([ 0.,  0.,  0., ...,  0.,  0.,  0.])"
      ]
     },
     "execution_count": 457,
     "metadata": {},
     "output_type": "execute_result"
    }
   ],
   "source": [
    "collection.append('some other tweet')"
   ]
  },
  {
   "cell_type": "code",
   "execution_count": 458,
   "metadata": {},
   "outputs": [
    {
     "data": {
      "text/plain": [
       "array([[ 0.        ,  0.78610452,  0.88128212]])"
      ]
     },
     "execution_count": 458,
     "metadata": {},
     "output_type": "execute_result"
    }
   ],
   "source": [
    "collection.distance(\n",
    "    'a tweet',\n",
    "    [\n",
    "        'a tweet',\n",
    "        'another tweet',\n",
    "        'some other tweet',\n",
    "    ],\n",
    ")"
   ]
  },
  {
   "cell_type": "code",
   "execution_count": 403,
   "metadata": {},
   "outputs": [
    {
     "data": {
      "text/plain": [
       "(0.78610451518429436, 0.88128211556804148)"
      ]
     },
     "execution_count": 403,
     "metadata": {},
     "output_type": "execute_result"
    }
   ],
   "source": [
    "(\n",
    "    spatial.distance.cosine(collection['a tweet'], collection['another tweet']),\n",
    "    spatial.distance.cosine(collection['a tweet'], collection['some other tweet']),\n",
    ")"
   ]
  },
  {
   "cell_type": "code",
   "execution_count": 459,
   "metadata": {},
   "outputs": [
    {
     "data": {
      "text/plain": [
       "array([ 0.,  0.,  0., ...,  0.,  0.,  0.])"
      ]
     },
     "execution_count": 459,
     "metadata": {},
     "output_type": "execute_result"
    }
   ],
   "source": [
    "collection.append('totally different piece')"
   ]
  },
  {
   "cell_type": "code",
   "execution_count": 461,
   "metadata": {},
   "outputs": [
    {
     "data": {
      "text/plain": [
       "array([[ 0.        ,  0.78610452,  0.88128212,  1.        ],\n",
       "       [ 0.78610452,  0.        ,  0.71257502,  1.        ],\n",
       "       [ 0.88128212,  0.71257502,  0.        ,  1.        ],\n",
       "       [ 1.        ,  1.        ,  1.        ,  0.        ]])"
      ]
     },
     "execution_count": 461,
     "metadata": {},
     "output_type": "execute_result"
    }
   ],
   "source": [
    "collection.distance(\n",
    "    [\n",
    "        'a tweet',\n",
    "        'another tweet',\n",
    "        'some other tweet',\n",
    "        'totally different piece'\n",
    "    ],\n",
    "    [\n",
    "        'a tweet',\n",
    "        'another tweet',\n",
    "        'some other tweet',\n",
    "        'totally different piece'\n",
    "    ],\n",
    ")"
   ]
  },
  {
   "cell_type": "code",
   "execution_count": null,
   "metadata": {},
   "outputs": [],
   "source": []
  }
 ],
 "metadata": {
  "kernelspec": {
   "display_name": "Python 3",
   "language": "python",
   "name": "python3"
  },
  "language_info": {
   "codemirror_mode": {
    "name": "ipython",
    "version": 3
   },
   "file_extension": ".py",
   "mimetype": "text/x-python",
   "name": "python",
   "nbconvert_exporter": "python",
   "pygments_lexer": "ipython3",
   "version": "3.6.3"
  }
 },
 "nbformat": 4,
 "nbformat_minor": 2
}
