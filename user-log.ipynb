{
 "cells": [
  {
   "cell_type": "code",
   "execution_count": 1,
   "metadata": {
    "collapsed": true
   },
   "outputs": [],
   "source": [
    "%load_ext autoreload\n",
    "%autoreload 2"
   ]
  },
  {
   "cell_type": "code",
   "execution_count": 2,
   "metadata": {
    "collapsed": true
   },
   "outputs": [],
   "source": [
    "%matplotlib inline"
   ]
  },
  {
   "cell_type": "code",
   "execution_count": 140,
   "metadata": {
    "collapsed": true
   },
   "outputs": [],
   "source": [
    "import matplotlib.pyplot as plt\n",
    "import seaborn as sns"
   ]
  },
  {
   "cell_type": "code",
   "execution_count": 4,
   "metadata": {
    "collapsed": true
   },
   "outputs": [],
   "source": [
    "import sys\n",
    "\n",
    "sys.path.extend(\n",
    "    [\n",
    "        'flock',\n",
    "        'flock-web',\n",
    "        'flock-conf',\n",
    "        'src/poultry',\n",
    "    ]\n",
    ")"
   ]
  },
  {
   "cell_type": "code",
   "execution_count": 5,
   "metadata": {},
   "outputs": [],
   "source": [
    "import os\n",
    "from urllib.parse import urlparse, parse_qs\n",
    "\n",
    "import sqlalchemy as sa\n",
    "from sqlalchemy.orm import sessionmaker\n",
    "\n",
    "import pandas as pd\n",
    "\n",
    "from flock import model\n",
    "from flock_web import model as fw_model\n",
    "\n",
    "# import graph_tool as gt\n",
    "# import graph_tool.draw\n",
    "# import graph_tool.collection"
   ]
  },
  {
   "cell_type": "code",
   "execution_count": 6,
   "metadata": {
    "collapsed": true
   },
   "outputs": [],
   "source": [
    "engine = sa.create_engine('postgresql://dnm11:{}@129.6.101.99:15432/twitter'.format(os.environ['DB_PASS']), echo=False)\n",
    "conn = engine.connect()\n",
    "model.metadata.bind = engine\n",
    "\n",
    "Session = sessionmaker(bind=engine)\n",
    "session = Session()"
   ]
  },
  {
   "cell_type": "code",
   "execution_count": null,
   "metadata": {
    "collapsed": true
   },
   "outputs": [],
   "source": [
    "sa.b"
   ]
  },
  {
   "cell_type": "code",
   "execution_count": 42,
   "metadata": {},
   "outputs": [],
   "source": [
    "with session.begin_nested():\n",
    "    user_actions = pd.DataFrame(\n",
    "        [\n",
    "            (\n",
    "                a.id, a.timestamp, a.user_id, a.endpoint, a.view_args, a.collection,\n",
    "                a.request_args, a.request_form, a.headers.get('Referer'), a.url,\n",
    "                #a.url, a.headers.get('Referer'), a.endpoint,\n",
    "                # a.request_args['q'][0],\n",
    "                #'on' in a.request_args.get('show_images', []),\n",
    "                #'pmi' in a.request_args.get('filter', []),\n",
    "            )\n",
    "            for a in (\n",
    "                session\n",
    "                .query(fw_model.UserAction)\n",
    "#                 .filter(fw_model.UserAction.url != None)\n",
    "#                 .filter(fw_model.UserAction.endpoint == 'collection.tweets')\n",
    "                .filter(sa.between(fw_model.UserAction.user_id, 5, 10))\n",
    "                .filter(fw_model.UserAction.timestamp > '2017-06-12')\n",
    "                .order_by(fw_model.UserAction.timestamp)\n",
    "            )\n",
    "        ],\n",
    "        columns=(\n",
    "            'action_id', 'timestamp', 'user_id', 'endpoint', 'view_args', 'colelction',\n",
    "            'request_args', 'request_form', 'referer_header', 'url',\n",
    "                 #'query',\n",
    "                 #'show_images',\n",
    "                 #'filter',\n",
    "                ),\n",
    "    ).set_index('action_id', drop=False)"
   ]
  },
  {
   "cell_type": "code",
   "execution_count": 52,
   "metadata": {},
   "outputs": [],
   "source": [
    "def sanitize_request_form(request_form):\n",
    "    if 'first_name' in request_form:\n",
    "        request_form['first_name'] = '***'\n",
    "    return request_form\n",
    "\n",
    "user_actions['request_form'] = user_actions['request_form'].apply(sanitize_request_form)"
   ]
  },
  {
   "cell_type": "code",
   "execution_count": 131,
   "metadata": {},
   "outputs": [
    {
     "data": {
      "text/plain": [
       "main.relevance        6358\n",
       "collection.tweets     2750\n",
       "main.welcome           514\n",
       "collection.index       484\n",
       "main.topic             481\n",
       "main.topic_post        452\n",
       "main.topics            163\n",
       "collection.cluster     124\n",
       "main.login              37\n",
       "main.logout             25\n",
       "Name: endpoint, dtype: int64"
      ]
     },
     "execution_count": 131,
     "metadata": {},
     "output_type": "execute_result"
    }
   ],
   "source": [
    "user_actions['endpoint'].value_counts()"
   ]
  },
  {
   "cell_type": "code",
   "execution_count": 141,
   "metadata": {},
   "outputs": [
    {
     "data": {
      "image/png": "[encoded data removed]",
      "text/plain": [
       "<matplotlib.figure.Figure at 0x126e95e80>"
      ]
     },
     "metadata": {},
     "output_type": "display_data"
    }
   ],
   "source": [
    "endpoint_activity = user_actions[['timestamp', 'endpoint']].set_index('timestamp')\n",
    "endpoint_activity['frequency'] = 1\n",
    "endpoint_activity = endpoint_activity.set_index('endpoint', append=True)\n",
    "endpoint_activity = endpoint_activity.unstack('endpoint').fillna(0)['frequency']\n",
    "\n",
    "endpoint_activity = x.resample('1h').sum()[\n",
    "    [\n",
    "        'main.relevance',\n",
    "        'collection.tweets',\n",
    "        'main.topic',\n",
    "    ]\n",
    "]\n",
    "\n",
    "plt = endpoint_activity.plot(figsize=(15, 6))\n",
    "plt.figure.savefig('/home/dnm11/Desktop/endpoint_activity.pdf')"
   ]
  },
  {
   "cell_type": "code",
   "execution_count": 203,
   "metadata": {},
   "outputs": [
    {
     "data": {
      "image/png": "[encoded data removed]",
      "text/plain": [
       "<matplotlib.figure.Figure at 0x12a3f0470>"
      ]
     },
     "metadata": {},
     "output_type": "display_data"
    }
   ],
   "source": [
    "user_activity = user_actions[['user_id', 'endpoint']].groupby(by=['user_id', 'endpoint']).size().reset_index()\n",
    "\n",
    "plt = sns.barplot(\n",
    "    data=x, x='endpoint', y=0, hue='user_id',\n",
    "    order=[\n",
    "        'main.relevance',\n",
    "        'collection.tweets',\n",
    "        'main.topic',\n",
    "    ],\n",
    ")\n",
    "\n",
    "plt.figure.savefig('/home/dnm11/Desktop/user_activity.pdf')"
   ]
  },
  {
   "cell_type": "code",
   "execution_count": 211,
   "metadata": {},
   "outputs": [
    {
     "data": {
      "text/plain": [
       "1     4638\n",
       "-1    1668\n",
       "0       52\n",
       "Name: request_form, dtype: int64"
      ]
     },
     "execution_count": 211,
     "metadata": {},
     "output_type": "execute_result"
    }
   ],
   "source": [
    "(user_actions.loc[user_actions['endpoint'] == 'main.relevance', 'request_form']).apply(lambda r: r['judgment'][0]).value_counts()"
   ]
  },
  {
   "cell_type": "code",
   "execution_count": null,
   "metadata": {
    "collapsed": true
   },
   "outputs": [],
   "source": []
  },
  {
   "cell_type": "code",
   "execution_count": null,
   "metadata": {
    "collapsed": true
   },
   "outputs": [],
   "source": []
  },
  {
   "cell_type": "code",
   "execution_count": null,
   "metadata": {
    "collapsed": true
   },
   "outputs": [],
   "source": []
  },
  {
   "cell_type": "code",
   "execution_count": null,
   "metadata": {
    "collapsed": true
   },
   "outputs": [],
   "source": []
  },
  {
   "cell_type": "code",
   "execution_count": null,
   "metadata": {
    "collapsed": true
   },
   "outputs": [],
   "source": []
  },
  {
   "cell_type": "code",
   "execution_count": null,
   "metadata": {
    "collapsed": true,
    "scrolled": false
   },
   "outputs": [],
   "source": [
    "graph = gt.Graph()\n",
    "\n",
    "vertex_label = graph.new_vertex_property('string')\n",
    "edge_label = graph.new_edge_property('string')\n",
    "\n",
    "vertices = {}\n",
    "# for url in user_actions['url']:\n",
    "#     v = graph.add_vertex()\n",
    "#     vertex_label[v] = url\n",
    "#     vertices[url] = v\n",
    "\n",
    "for id_, url, referer, q in user_actions[['id', 'url', 'referer', 'query']].values:\n",
    "    if id_ in [8652, 8846]:\n",
    "        continue\n",
    "\n",
    "    if not referer:\n",
    "        continue\n",
    "\n",
    "    referer = parse_qs(urlparse(referer).query).get('q', [''])[0]\n",
    "    if referer not in vertices:\n",
    "        v_ref = graph.add_vertex()\n",
    "        vertices[referer] = v_ref\n",
    "        vertex_label[v_ref] = referer\n",
    "    else:\n",
    "        v_ref = vertices[referer]\n",
    "\n",
    "    url = parse_qs(urlparse(url).query).get('q', [''])[0]\n",
    "    if url not in vertices:\n",
    "        v_url = graph.add_vertex()\n",
    "        vertex_label[v_url] = url\n",
    "        vertices[url] = v_url\n",
    "        vertex_label[v_url] = url\n",
    "    else:\n",
    "        v_url = vertices[url]\n",
    "        \n",
    "    if v_ref is not v_url:\n",
    "        e = graph.add_edge(\n",
    "            v_ref, v_url\n",
    "        )\n",
    "\n",
    "        edge_label[e] = str(id_)\n",
    "    \n",
    "\n",
    "plt.switch_backend('cairo')\n",
    "fig = plt.figure()\n",
    "fig.set_size_inches((8.5 * 2, 11 * 2))\n",
    "\n",
    "pos = gt.draw.sfdp_layout(graph)\n",
    "gt.draw.graph_draw(\n",
    "    graph,\n",
    "    pos=pos,\n",
    "    mplfig=fig,\n",
    "    vertex_text_position=0,\n",
    "#     vertex_text=graph.vertex_index,\n",
    "    vertex_text=vertex_label,\n",
    "#     vertex_font_size=7,\n",
    "    edge_text=edge_label,\n",
    "    edge_font_size=5,\n",
    "    output_size=(8.5 * 2, 11 * 2),\n",
    ")\n",
    "\n",
    "fig.savefig('/home/dnm11/Desktop/session.pdf')\n",
    "fig"
   ]
  },
  {
   "cell_type": "code",
   "execution_count": null,
   "metadata": {
    "collapsed": true
   },
   "outputs": [],
   "source": []
  },
  {
   "cell_type": "code",
   "execution_count": null,
   "metadata": {
    "collapsed": true
   },
   "outputs": [],
   "source": []
  },
  {
   "cell_type": "code",
   "execution_count": null,
   "metadata": {
    "collapsed": true
   },
   "outputs": [],
   "source": []
  },
  {
   "cell_type": "code",
   "execution_count": null,
   "metadata": {
    "collapsed": true
   },
   "outputs": [],
   "source": []
  },
  {
   "cell_type": "code",
   "execution_count": null,
   "metadata": {
    "collapsed": true
   },
   "outputs": [],
   "source": []
  },
  {
   "cell_type": "code",
   "execution_count": null,
   "metadata": {
    "collapsed": true
   },
   "outputs": [],
   "source": []
  },
  {
   "cell_type": "code",
   "execution_count": null,
   "metadata": {
    "collapsed": true
   },
   "outputs": [],
   "source": []
  },
  {
   "cell_type": "code",
   "execution_count": null,
   "metadata": {
    "collapsed": true
   },
   "outputs": [],
   "source": []
  },
  {
   "cell_type": "code",
   "execution_count": null,
   "metadata": {
    "collapsed": true
   },
   "outputs": [],
   "source": []
  },
  {
   "cell_type": "code",
   "execution_count": null,
   "metadata": {
    "collapsed": true
   },
   "outputs": [],
   "source": []
  },
  {
   "cell_type": "code",
   "execution_count": null,
   "metadata": {
    "collapsed": true
   },
   "outputs": [],
   "source": []
  },
  {
   "cell_type": "code",
   "execution_count": null,
   "metadata": {
    "collapsed": true
   },
   "outputs": [],
   "source": []
  },
  {
   "cell_type": "code",
   "execution_count": null,
   "metadata": {
    "collapsed": true
   },
   "outputs": [],
   "source": []
  },
  {
   "cell_type": "code",
   "execution_count": null,
   "metadata": {
    "collapsed": true
   },
   "outputs": [],
   "source": []
  },
  {
   "cell_type": "code",
   "execution_count": null,
   "metadata": {
    "collapsed": true
   },
   "outputs": [],
   "source": []
  },
  {
   "cell_type": "code",
   "execution_count": null,
   "metadata": {
    "collapsed": true
   },
   "outputs": [],
   "source": []
  },
  {
   "cell_type": "code",
   "execution_count": null,
   "metadata": {
    "collapsed": true
   },
   "outputs": [],
   "source": []
  },
  {
   "cell_type": "code",
   "execution_count": null,
   "metadata": {
    "collapsed": true
   },
   "outputs": [],
   "source": []
  },
  {
   "cell_type": "code",
   "execution_count": null,
   "metadata": {
    "collapsed": true
   },
   "outputs": [],
   "source": []
  },
  {
   "cell_type": "code",
   "execution_count": null,
   "metadata": {
    "collapsed": true
   },
   "outputs": [],
   "source": []
  },
  {
   "cell_type": "code",
   "execution_count": null,
   "metadata": {
    "collapsed": true
   },
   "outputs": [],
   "source": []
  },
  {
   "cell_type": "code",
   "execution_count": null,
   "metadata": {
    "collapsed": true
   },
   "outputs": [],
   "source": []
  }
 ],
 "metadata": {
  "kernelspec": {
   "display_name": "Python 3",
   "language": "python",
   "name": "python3"
  },
  "language_info": {
   "codemirror_mode": {
    "name": "ipython",
    "version": 3
   },
   "file_extension": ".py",
   "mimetype": "text/x-python",
   "name": "python",
   "nbconvert_exporter": "python",
   "pygments_lexer": "ipython3",
   "version": "3.6.1"
  }
 },
 "nbformat": 4,
 "nbformat_minor": 2
}
