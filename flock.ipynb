{
 "cells": [
  {
   "cell_type": "code",
   "execution_count": 1,
   "metadata": {
    "collapsed": false
   },
   "outputs": [],
   "source": [
    "%load_ext autoreload\n",
    "%autoreload 2"
   ]
  },
  {
   "cell_type": "code",
   "execution_count": 2,
   "metadata": {
    "collapsed": false
   },
   "outputs": [],
   "source": [
    "import sys\n",
    "\n",
    "sys.path.extend(\n",
    "    [\n",
    "        'flock',\n",
    "        'flock-conf',\n",
    "        'src/poultry',\n",
    "    ]\n",
    ")"
   ]
  },
  {
   "cell_type": "code",
   "execution_count": 4,
   "metadata": {
    "collapsed": false
   },
   "outputs": [],
   "source": [
    "import itertools\n",
    "from random import random\n",
    "\n",
    "from gensim.models.doc2vec import LabeledSentence, Doc2Vec\n",
    "\n",
    "import pandas as pd\n",
    "import numpy as np\n",
    "import sqlalchemy as sa\n",
    "\n",
    "from flock import model\n",
    "import db"
   ]
  },
  {
   "cell_type": "code",
   "execution_count": 5,
   "metadata": {
    "collapsed": false
   },
   "outputs": [],
   "source": [
    "import logging\n",
    "logging.basicConfig(filename='flock.log', level=logging.DEBUG)\n",
    "logger = logging.getLogger('flock')"
   ]
  },
  {
   "cell_type": "code",
   "execution_count": 16,
   "metadata": {
    "collapsed": true
   },
   "outputs": [],
   "source": [
    "select_query = (\n",
    "\"\"\"\n",
    "select tweet_id, features->'doc2vec'\n",
    "from tweet\n",
    "where tweet.search_vector @@ to_tsquery('pg_catalog.english', 'france')\n",
    "\"\"\"\n",
    ")"
   ]
  },
  {
   "cell_type": "code",
   "execution_count": 17,
   "metadata": {
    "collapsed": false
   },
   "outputs": [
    {
     "data": {
      "text/plain": [
       "19707"
      ]
     },
     "execution_count": 17,
     "metadata": {},
     "output_type": "execute_result"
    }
   ],
   "source": [
    "len(list(db.conn.execute(select_query)))"
   ]
  },
  {
   "cell_type": "code",
   "execution_count": 18,
   "metadata": {
    "collapsed": false
   },
   "outputs": [],
   "source": [
    "# print(db.tweet_select_stmt)"
   ]
  },
  {
   "cell_type": "code",
   "execution_count": 19,
   "metadata": {
    "collapsed": false
   },
   "outputs": [],
   "source": [
    "def sentences():\n",
    "#     tweets = db.conn.execute(db.tweet_select_stmt)\n",
    "    tweets = db.conn.execute(select_query)\n",
    "    \n",
    "    for i, (tweet_id, doc2vec_features) in enumerate(tweets, start=1):\n",
    "        if not doc2vec_features:\n",
    "            logger.warning('Empty features for tweet %s.', tweet_id)\n",
    "            continue\n",
    "        \n",
    "        yield LabeledSentence(**doc2vec_features)\n",
    "        \n",
    "    logger.info('%s tweets were selected from the DB.', i)"
   ]
  },
  {
   "cell_type": "code",
   "execution_count": 21,
   "metadata": {
    "collapsed": true
   },
   "outputs": [],
   "source": [
    "doc2vec_model = Doc2Vec(\n",
    "    size=100,\n",
    "    sample=1e-5,\n",
    "    negative=15,\n",
    "    alpha=0.025,\n",
    "    min_alpha=0.025,\n",
    "    workers=8,\n",
    "    min_count=10,\n",
    ")"
   ]
  },
  {
   "cell_type": "code",
   "execution_count": 22,
   "metadata": {
    "collapsed": false,
    "scrolled": true
   },
   "outputs": [
    {
     "name": "stdout",
     "output_type": "stream",
     "text": [
      "CPU times: user 848 ms, sys: 15 ms, total: 863 ms\n",
      "Wall time: 1.31 s\n"
     ]
    }
   ],
   "source": [
    "%%time\n",
    "doc2vec_model.build_vocab(sentences())"
   ]
  },
  {
   "cell_type": "code",
   "execution_count": 25,
   "metadata": {
    "collapsed": false
   },
   "outputs": [],
   "source": [
    "def Epochs(model):\n",
    "    epoch = 0\n",
    "    while True:\n",
    "        print('Epoch {}. Alpha {:.3f}'.format(epoch, model.alpha), end=' ')\n",
    "        epoch += 1\n",
    "        model.train(sentences())\n",
    "        model.alpha = max(model.alpha - 0.001, 0.001)\n",
    "        model.min_alpha = model.alpha\n",
    "\n",
    "        print('Saving...', end=' ')\n",
    "#         model.save('2015-04-04.through.2014-04-10_EN.model')\n",
    "        model.save('france.model')\n",
    "        print('Saved.')\n",
    "        \n",
    "        yield"
   ]
  },
  {
   "cell_type": "code",
   "execution_count": 26,
   "metadata": {
    "collapsed": false
   },
   "outputs": [],
   "source": [
    "epochs = Epochs(doc2vec_model)"
   ]
  },
  {
   "cell_type": "code",
   "execution_count": 27,
   "metadata": {
    "collapsed": false
   },
   "outputs": [
    {
     "name": "stdout",
     "output_type": "stream",
     "text": [
      "Epoch 0. Alpha 0.025 Saving... Saved.\n",
      "Epoch 1. Alpha 0.024 Saving... Saved.\n",
      "Epoch 2. Alpha 0.023 Saving... Saved.\n",
      "Epoch 3. Alpha 0.022 Saving... Saved.\n",
      "Epoch 4. Alpha 0.021 Saving... Saved.\n",
      "Epoch 5. Alpha 0.020 Saving... Saved.\n",
      "Epoch 6. Alpha 0.019 Saving... Saved.\n",
      "Epoch 7. Alpha 0.018 Saving... Saved.\n",
      "Epoch 8. Alpha 0.017 Saving... Saved.\n",
      "Epoch 9. Alpha 0.016 Saving... Saved.\n",
      "Epoch 10. Alpha 0.015 Saving... Saved.\n",
      "Epoch 11. Alpha 0.014 Saving... Saved.\n",
      "Epoch 12. Alpha 0.013 Saving... Saved.\n",
      "Epoch 13. Alpha 0.012 Saving... Saved.\n",
      "Epoch 14. Alpha 0.011 Saving... Saved.\n",
      "Epoch 15. Alpha 0.010 Saving... Saved.\n",
      "Epoch 16. Alpha 0.009 Saving... Saved.\n",
      "Epoch 17. Alpha 0.008 Saving... Saved.\n",
      "Epoch 18. Alpha 0.007 Saving... Saved.\n",
      "Epoch 19. Alpha 0.006 Saving... Saved.\n",
      "Epoch 20. Alpha 0.005 Saving... Saved.\n",
      "Epoch 21. Alpha 0.004 Saving... Saved.\n",
      "Epoch 22. Alpha 0.003 Saving... Saved.\n",
      "Epoch 23. Alpha 0.002 Saving... Saved.\n",
      "Epoch 24. Alpha 0.001 Saving... Saved.\n",
      "CPU times: user 3min 59s, sys: 7.94 s, total: 4min 7s\n",
      "Wall time: 1min 30s\n"
     ]
    }
   ],
   "source": [
    "%%time\n",
    "for _ in range(25):\n",
    "    next(epochs)"
   ]
  },
  {
   "cell_type": "code",
   "execution_count": null,
   "metadata": {
    "collapsed": true
   },
   "outputs": [],
   "source": []
  }
 ],
 "metadata": {
  "anaconda-cloud": {},
  "kernelspec": {
   "display_name": "Python 3",
   "language": "python",
   "name": "python3"
  },
  "language_info": {
   "codemirror_mode": {
    "name": "ipython",
    "version": 3
   },
   "file_extension": ".py",
   "mimetype": "text/x-python",
   "name": "python",
   "nbconvert_exporter": "python",
   "pygments_lexer": "ipython3",
   "version": "3.5.2"
  }
 },
 "nbformat": 4,
 "nbformat_minor": 0
}
