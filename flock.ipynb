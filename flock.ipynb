{
 "cells": [
  {
   "cell_type": "code",
   "execution_count": 1,
   "metadata": {
    "collapsed": false
   },
   "outputs": [],
   "source": [
    "%load_ext autoreload\n",
    "%autoreload 2"
   ]
  },
  {
   "cell_type": "code",
   "execution_count": 2,
   "metadata": {
    "collapsed": false
   },
   "outputs": [],
   "source": [
    "import sys\n",
    "\n",
    "sys.path.extend(\n",
    "    [\n",
    "        'flock',\n",
    "        'flock-conf',\n",
    "        'src/poultry',\n",
    "    ]\n",
    ")"
   ]
  },
  {
   "cell_type": "code",
   "execution_count": 3,
   "metadata": {
    "collapsed": false
   },
   "outputs": [
    {
     "name": "stderr",
     "output_type": "stream",
     "text": [
      "/home/dnm11/miniconda3/envs/notebook-conda-forge/lib/python3.5/site-packages/gensim/utils.py:1015: UserWarning: Pattern library is not installed, lemmatization won't be available.\n",
      "  warnings.warn(\"Pattern library is not installed, lemmatization won't be available.\")\n"
     ]
    }
   ],
   "source": [
    "import itertools\n",
    "from random import random\n",
    "\n",
    "from gensim.models.doc2vec import LabeledSentence, Doc2Vec\n",
    "\n",
    "import pandas as pd\n",
    "import numpy as np\n",
    "import sqlalchemy as sa\n",
    "\n",
    "from flock import model\n",
    "import db"
   ]
  },
  {
   "cell_type": "code",
   "execution_count": 4,
   "metadata": {
    "collapsed": false
   },
   "outputs": [],
   "source": [
    "import logging\n",
    "logging.basicConfig(filename='flock.log', level=logging.DEBUG)\n",
    "logger = logging.getLogger('flock')"
   ]
  },
  {
   "cell_type": "code",
   "execution_count": 5,
   "metadata": {
    "collapsed": false
   },
   "outputs": [
    {
     "name": "stdout",
     "output_type": "stream",
     "text": [
      "SELECT tweet.tweet_id, tweet.features -> %(features_1)s AS anon_1 \n",
      "FROM tweet JOIN tweet_weight ON tweet_weight.tweet_id = tweet.tweet_id AND tweet_weight.collection = tweet.collection \n",
      "WHERE tweet_weight.weight > %(weight_1)s AND tweet.collection = %(collection_1)s\n"
     ]
    }
   ],
   "source": [
    "print(db.tweet_select_stmt)"
   ]
  },
  {
   "cell_type": "code",
   "execution_count": 6,
   "metadata": {
    "collapsed": false
   },
   "outputs": [],
   "source": [
    "def sentences():\n",
    "    tweets = db.conn.execute(db.tweet_select_stmt)\n",
    "    \n",
    "    for i, (tweet_id, doc2vec_features) in enumerate(tweets, start=1):\n",
    "        if not doc2vec_features:\n",
    "            logger.warning('Empty features for tweet %s.', tweet_id)\n",
    "            continue\n",
    "        \n",
    "        yield LabeledSentence(**doc2vec_features)\n",
    "        \n",
    "    logger.info('%s tweets were selected from the DB.', i)"
   ]
  },
  {
   "cell_type": "code",
   "execution_count": 12,
   "metadata": {
    "collapsed": true
   },
   "outputs": [],
   "source": [
    "doc2vec_model = Doc2Vec(\n",
    "    size=100,\n",
    "    sample=1e-5,\n",
    "    negative=15,\n",
    "    alpha=0.025,\n",
    "    min_alpha=0.025,\n",
    "    workers=8,\n",
    "    min_count=10,\n",
    ")"
   ]
  },
  {
   "cell_type": "code",
   "execution_count": 13,
   "metadata": {
    "collapsed": false,
    "scrolled": true
   },
   "outputs": [
    {
     "name": "stdout",
     "output_type": "stream",
     "text": [
      "CPU times: user 1min 19s, sys: 1.92 s, total: 1min 21s\n",
      "Wall time: 2min 17s\n"
     ]
    }
   ],
   "source": [
    "%%time\n",
    "doc2vec_model.build_vocab(sentences())"
   ]
  },
  {
   "cell_type": "code",
   "execution_count": 14,
   "metadata": {
    "collapsed": false
   },
   "outputs": [],
   "source": [
    "def Epochs(model):\n",
    "    epoch = 0\n",
    "    while True:\n",
    "        print('Epoch {}. Alpha {:.3f}'.format(epoch, model.alpha), end=' ')\n",
    "        epoch += 1\n",
    "        model.train(sentences())\n",
    "        model.alpha = max(model.alpha - 0.001, 0.001)\n",
    "        model.min_alpha = model.alpha\n",
    "\n",
    "        print('Saving...', end=' ')\n",
    "        model.save('2015-04-04.through.2014-04-10_EN.model')\n",
    "        print('Saved.')\n",
    "        \n",
    "        yield"
   ]
  },
  {
   "cell_type": "code",
   "execution_count": 15,
   "metadata": {
    "collapsed": false
   },
   "outputs": [],
   "source": [
    "epochs = Epochs(doc2vec_model)"
   ]
  },
  {
   "cell_type": "code",
   "execution_count": 17,
   "metadata": {
    "collapsed": false
   },
   "outputs": [
    {
     "name": "stdout",
     "output_type": "stream",
     "text": [
      "Epoch 0. Alpha 0.025 Saving... Saved.\n",
      "Epoch 1. Alpha 0.024 Saving... Saved.\n",
      "Epoch 2. Alpha 0.023 Saving... Saved.\n",
      "Epoch 3. Alpha 0.022 Saving... Saved.\n",
      "Epoch 4. Alpha 0.021 Saving... Saved.\n",
      "Epoch 5. Alpha 0.020 Saving... Saved.\n",
      "Epoch 6. Alpha 0.019 Saving... Saved.\n",
      "Epoch 7. Alpha 0.018 Saving... Saved.\n",
      "Epoch 8. Alpha 0.017 Saving... Saved.\n",
      "Epoch 9. Alpha 0.016 Saving... Saved.\n",
      "Epoch 10. Alpha 0.015 Saving... Saved.\n",
      "Epoch 11. Alpha 0.014 Saving... Saved.\n",
      "Epoch 12. Alpha 0.013 Saving... Saved.\n",
      "Epoch 13. Alpha 0.012 Saving... Saved.\n",
      "Epoch 14. Alpha 0.011 Saving... Saved.\n",
      "Epoch 15. Alpha 0.010 Saving... Saved.\n",
      "Epoch 16. Alpha 0.009 Saving... Saved.\n",
      "Epoch 17. Alpha 0.008 Saving... Saved.\n",
      "Epoch 18. Alpha 0.007 Saving... Saved.\n",
      "Epoch 19. Alpha 0.006 Saving... Saved.\n",
      "Epoch 20. Alpha 0.005 Saving... Saved.\n",
      "Epoch 21. Alpha 0.004 Saving... Saved.\n",
      "Epoch 22. Alpha 0.003 Saving... Saved.\n",
      "Epoch 23. Alpha 0.002 Saving... Saved.\n",
      "Epoch 24. Alpha 0.001 Saving... Saved.\n"
     ]
    }
   ],
   "source": [
    "for _ in range(25):\n",
    "    next(epochs)"
   ]
  },
  {
   "cell_type": "code",
   "execution_count": null,
   "metadata": {
    "collapsed": true
   },
   "outputs": [],
   "source": []
  }
 ],
 "metadata": {
  "anaconda-cloud": {},
  "kernelspec": {
   "display_name": "Python 3",
   "language": "python",
   "name": "python3"
  },
  "language_info": {
   "codemirror_mode": {
    "name": "ipython",
    "version": 3
   },
   "file_extension": ".py",
   "mimetype": "text/x-python",
   "name": "python",
   "nbconvert_exporter": "python",
   "pygments_lexer": "ipython3",
   "version": "3.5.2"
  }
 },
 "nbformat": 4,
 "nbformat_minor": 0
}
